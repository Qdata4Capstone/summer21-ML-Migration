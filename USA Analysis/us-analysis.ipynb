{
 "cells": [
  {
   "cell_type": "code",
   "execution_count": 29,
   "id": "c6282e71",
   "metadata": {},
   "outputs": [],
   "source": [
    "import pandas as pd\n",
    "import numpy as np\n",
    "from sklearn.ensemble import RandomForestRegressor\n",
    "from sklearn.linear_model import LinearRegression\n",
    "from sklearn.metrics import mean_absolute_error\n",
    "from sklearn.metrics import mean_squared_error\n",
    "from sklearn.preprocessing import StandardScaler \n",
    "import time\n",
    "import warnings\n",
    "import matplotlib.pyplot as plt"
   ]
  },
  {
   "cell_type": "code",
   "execution_count": 30,
   "id": "c822deb9",
   "metadata": {},
   "outputs": [],
   "source": [
    "from autoimpute.imputations import MiceImputer,SingleImputer"
   ]
  },
  {
   "cell_type": "code",
   "execution_count": 31,
   "id": "c578267d",
   "metadata": {},
   "outputs": [],
   "source": [
    "from sklearn.impute import SimpleImputer"
   ]
  },
  {
   "cell_type": "code",
   "execution_count": 32,
   "id": "9b01f6a9",
   "metadata": {},
   "outputs": [],
   "source": [
    "from statsmodels.imputation.mice import MICE\n",
    "from statsmodels.imputation.mice import MICEData\n",
    "import statsmodels.api as sm"
   ]
  },
  {
   "cell_type": "code",
   "execution_count": 33,
   "id": "6eefbfa8",
   "metadata": {},
   "outputs": [],
   "source": [
    "# Set some debugging parameters\n",
    "pd.set_option('display.max_columns', None)\n",
    "warnings.filterwarnings(\"ignore\")"
   ]
  },
  {
   "cell_type": "code",
   "execution_count": 34,
   "id": "f48892f6",
   "metadata": {},
   "outputs": [],
   "source": [
    "TRAINING_PERIOD = 4\n",
    "LAG_PREDICTORS = True\n",
    "NLAG = 1\n",
    "DEPVAR = \"asylum seekers\"\n",
    "# DEPVAR = \"apprehensions\"\n",
    "# \"asylum seekers\" | \"asylum seekers (global stock)\" | \"refugees (global stock)\"\n",
    "LOG_TRANSFORM_DEPVAR = True\n",
    "PER_CAPITA_TRANSFORM_DEPVAR = True\n",
    "SPEI_MOVING_AVERAGES_3_6 = False\n",
    "NSTEP_AHEAD = 1\n",
    "CALCULATE_INTERACTIONS = False"
   ]
  },
  {
   "cell_type": "code",
   "execution_count": 35,
   "id": "088572c9",
   "metadata": {},
   "outputs": [],
   "source": [
    "# Read Dataset directly from file and pre-process\n",
    "# original_dataset = pd.read_csv(\"../Data/replication_data.csv\")\n",
    "# original_dataset = pd.read_csv(\"../RCode/imp.csv\")\n",
    "original_dataset = pd.read_csv(\"../../Data/USAAsylumApplications&UnauthorizedMigration/USA_cleaned_dataset.csv\")\n",
    "# original_dataset = pd.read_csv(\"../../Data/USAAsylumApplications&UnauthorizedMigration/global_cleaned_asylum_2000_2018.csv\")\n",
    "# original_dataset = pd.read_csv(\"../../Data/USAAsylumApplications&UnauthorizedMigration/USA_cleaned_apprehensions_2002_2018.csv\")\n",
    "# original_dataset['n_asylum'] = original_dataset['n_asylum'].fillna(0)\n",
    "# original_dataset['n_asylum_eu28'] = original_dataset['n_asylum_eu28'].fillna(0)\n",
    "original_dataset['US_apprehensions'] = original_dataset['US_apprehensions'].fillna(0)\n",
    "original_dataset['US_asylum_applications'] = original_dataset['US_asylum_applications'].fillna(0)\n",
    "# original_dataset['n_asylum_eu28'] = original_dataset['US_asylum_applications'].fillna(0)\n",
    "# original_dataset['global_asylum_applications'] = original_dataset['global_asylum_applications'].fillna(0)\n",
    "# original_dataset['n_refugees'] = original_dataset['n_refugees'].fillna(0)\n",
    "original_dataset['spei3_gs_neg'] = original_dataset['spei3_gs_neg'].apply(lambda x: x*12)\n",
    "original_dataset['spei3_gs_pos'] = original_dataset['spei3_gs_pos'].apply(lambda x: x*12)\n",
    "original_dataset['physical_integrity'] = original_dataset['civil_liberties_combined']"
   ]
  },
  {
   "cell_type": "code",
   "execution_count": 36,
   "id": "e238fbfb",
   "metadata": {},
   "outputs": [],
   "source": [
    "# Remove all microstates from the list\n",
    "microstates = pd.read_csv(\"../Data/microstates.dat\", sep = \"\\t\", names=['gwcode','iso3','name','d1','d2'])\n",
    "microstates_list = microstates['gwcode'].to_list()\n",
    "dataset = original_dataset[~original_dataset['gwcode'].isin(microstates_list)]\n",
    "# dataset = original_dataset\n",
    "dataset = dataset.reset_index()"
   ]
  },
  {
   "cell_type": "code",
   "execution_count": 37,
   "id": "19b97318",
   "metadata": {},
   "outputs": [],
   "source": [
    "# Original code did log(population+1),  I have directly did log population and inf values are 0\n",
    "# USA\n",
    "if DEPVAR == \"asylum seekers\":\n",
    "    dataset['orig_depvar'] = dataset['US_asylum_applications']\n",
    "#     dataset['orig_depvar'] = dataset['global_asylum_applications']\n",
    "    dataset['ln_depvar_pop'] = dataset['US_asylum_applications']\n",
    "#     dataset['ln_depvar_pop'] = dataset['global_asylum_applications']\n",
    "    dataset.loc[dataset['US_asylum_applications']>0, 'ln_depvar_pop'] = dataset['US_asylum_applications']/(dataset['wdi_pop']/1e6) +1\n",
    "    dataset.loc[dataset['US_asylum_applications']<=0, 'ln_depvar_pop'] = 1\n",
    "#     dataset.loc[dataset['global_asylum_applications']>0, 'ln_depvar_pop'] = dataset['global_asylum_applications']/(dataset['wdi_pop']/1e6) +1\n",
    "#     dataset.loc[dataset['global_asylum_applications']<=0, 'ln_depvar_pop'] = 1\n",
    "    dataset['ln_depvar_pop'] = pd.to_numeric(dataset['ln_depvar_pop'])\n",
    "    dataset['ln_depvar_pop'] = dataset['ln_depvar_pop'].apply(lambda x: np.log(x))\n",
    "\n",
    "# US Apprehensions\n",
    "if DEPVAR == \"apprehensions\":\n",
    "    dataset['orig_depvar'] = dataset['US_apprehensions']\n",
    "    dataset['ln_depvar_pop'] = dataset['US_apprehensions']\n",
    "    dataset.loc[dataset['US_apprehensions']>0, 'ln_depvar_pop'] = (dataset['US_apprehensions']/(dataset['wdi_pop']/1e6)) +1\n",
    "    dataset.loc[dataset['US_apprehensions']<=0, 'ln_depvar_pop'] = 1\n",
    "    dataset['ln_depvar_pop'] = dataset['ln_depvar_pop'].apply(lambda x: np.log(x))\n",
    "\n",
    "# # Has to be changed depending on what we are predicting\n",
    "dataset['depvar'] = dataset['ln_depvar_pop']"
   ]
  },
  {
   "cell_type": "code",
   "execution_count": 38,
   "id": "e0074d09",
   "metadata": {},
   "outputs": [],
   "source": [
    "impute_dataset = dataset[['country', 'year', 'depvar', 'highest_neighbor_dem', 'area', 'wdi_pop', 'wdi_urban_pop', 'min_distance', 'pop_distance','perc_rejected_asylum',\\\n",
    "                          'wdi_gdppc_growth', 'wdi_gdppc', 'perc_post_secondary', 'kof_index', 'wdi_imr',\\\n",
    "                          'tmp_pop', 'spei3_gs_pos', 'spei3_gs_neg', \\\n",
    "                          'casualties_brd', 'annually_affected_20k', 'physical_integrity', 'free_movement', 'homicide']]\n",
    "    "
   ]
  },
  {
   "cell_type": "code",
   "execution_count": 39,
   "id": "81c16f2f",
   "metadata": {},
   "outputs": [],
   "source": [
    "impute_dataset.loc[impute_dataset['wdi_pop']>0, 'wdi_pop'] = impute_dataset['wdi_pop']\n",
    "impute_dataset.loc[impute_dataset['wdi_pop']<=0, 'wdi_pop'] = 1\n",
    "impute_dataset.loc[impute_dataset['wdi_gdppc']>0, 'wdi_gdppc'] = impute_dataset['wdi_gdppc']\n",
    "impute_dataset.loc[impute_dataset['wdi_gdppc']<=0, 'wdi_gdppc'] = 1\n",
    "impute_dataset.loc[impute_dataset['casualties_brd']>0, 'casualties_brd'] = impute_dataset['casualties_brd']\n",
    "impute_dataset.loc[impute_dataset['casualties_brd']<=0, 'casualties_brd'] = 1\n",
    "impute_dataset.loc[impute_dataset['annually_affected_20k']>0, 'annually_affected_20k'] = impute_dataset['annually_affected_20k']\n",
    "impute_dataset.loc[impute_dataset['annually_affected_20k']<=0, 'annually_affected_20k'] = 1\n",
    "impute_dataset.loc[impute_dataset['homicide']>0, 'homicide'] = impute_dataset['homicide']\n",
    "impute_dataset.loc[impute_dataset['homicide']<=0, 'homicide'] = 1"
   ]
  },
  {
   "cell_type": "code",
   "execution_count": 40,
   "id": "10c62d01",
   "metadata": {},
   "outputs": [],
   "source": [
    "impute_dataset['wdi_pop'] = impute_dataset['wdi_pop'].apply(lambda x: np.log(x))\n",
    "impute_dataset['area'] = impute_dataset['area'].apply(lambda x: np.log(x))\n",
    "impute_dataset['wdi_gdppc'] = impute_dataset['wdi_gdppc'].apply(lambda x: np.log(x))\n",
    "impute_dataset['casualties_brd'] = impute_dataset['casualties_brd'].apply(lambda x: np.log(x))\n",
    "impute_dataset['annually_affected_20k'] = impute_dataset['annually_affected_20k'].apply(lambda x: np.log(x))\n",
    "impute_dataset['homicide'] = impute_dataset['homicide'].apply(lambda x: np.log(x))"
   ]
  },
  {
   "cell_type": "code",
   "execution_count": 41,
   "id": "1f1c34cd",
   "metadata": {},
   "outputs": [],
   "source": [
    "# Second order tmp_pop\n",
    "# impute_dataset['tmp_pop_sq'] = impute_dataset['tmp_pop'].apply(lambda x: np.power(x,2))\n",
    "\n",
    "# impute_dataset['spei3_gs_pos'] = -1*impute_dataset['spei3_gs_pos']\n",
    "# impute_dataset['spei3_gs_neg'] = -1*impute_dataset['spei3_gs_neg']\n",
    "\n",
    "# 3 year moving average\n",
    "impute_dataset['spei3_gs_pos_r3'] = impute_dataset['spei3_gs_pos'].rolling(3,min_periods=1).mean()\n",
    "impute_dataset['spei3_gs_neg_r3'] = impute_dataset['spei3_gs_neg'].rolling(3,min_periods=1).mean()\n",
    "# 6 year moving average\n",
    "# impute_dataset['spei3_gs_pos_r6'] = impute_dataset['spei3_gs_pos'].rolling(6,min_periods=1).mean()\n",
    "# impute_dataset['spei3_gs_neg_r6'] = impute_dataset['spei3_gs_neg'].rolling(6,min_periods=1).mean()\n"
   ]
  },
  {
   "cell_type": "code",
   "execution_count": 42,
   "id": "a6a76965",
   "metadata": {},
   "outputs": [],
   "source": [
    "# Filter for only years we want\n",
    "if DEPVAR == \"asylum seekers\":\n",
    "    impute_dataset = impute_dataset[impute_dataset['year']>=2007]\n",
    "elif DEPVAR == \"apprehensions\":\n",
    "    impute_dataset = impute_dataset[impute_dataset['year']>=1999]"
   ]
  },
  {
   "cell_type": "code",
   "execution_count": 43,
   "id": "327351bd",
   "metadata": {},
   "outputs": [],
   "source": [
    "# Global imputation parameters\n",
    "n_imputations = 1 # number of imputations\n",
    "impute_dataset = impute_dataset.replace([np.inf, -np.inf], np.nan).reset_index()\n",
    "# impute_dataset = impute_dataset.replace(0, np.nan).reset_index()\n",
    "imputations = []\n",
    "# print(impute_dataset)"
   ]
  },
  {
   "cell_type": "code",
   "execution_count": 44,
   "id": "8758c489",
   "metadata": {},
   "outputs": [
    {
     "name": "stdout",
     "output_type": "stream",
     "text": [
      "0\n"
     ]
    },
    {
     "data": {
      "text/plain": [
       "1"
      ]
     },
     "execution_count": 44,
     "metadata": {},
     "output_type": "execute_result"
    }
   ],
   "source": [
    "# Statsmodel based imputation\n",
    "c = impute_dataset['country']\n",
    "y = impute_dataset['year']\n",
    "impute_dataset = impute_dataset.drop(columns=['country','year'])\n",
    "imp = MICEData(impute_dataset)\n",
    "fml = 'depvar ~ highest_neighbor_dem+area+wdi_pop+wdi_urban_pop+min_distance+pop_distance+perc_rejected_asylum+wdi_gdppc_growth+wdi_gdppc+perc_post_secondary+kof_index+wdi_imr+tmp_pop+spei3_gs_pos+spei3_gs_neg+casualties_brd+annually_affected_20k+physical_integrity+free_movement+homicide'\n",
    "mice = MICE(fml, sm.OLS, imp)\n",
    "results = mice.fit(10, n_imputations)\n",
    "for j in range(n_imputations):\n",
    "    print(j)\n",
    "    imp.update_all()\n",
    "    temp = imp.data\n",
    "    temp['country'] = c\n",
    "    temp['year'] = y\n",
    "    \n",
    "    # Constraint on imputation values\n",
    "    temp.loc[temp['spei3_gs_neg']<=0, 'spei3_gs_neg'] = 0\n",
    "    temp.loc[temp['spei3_gs_pos']<=0, 'spei3_gs_pos'] = 0\n",
    "    temp.loc[temp['kof_index']<=0, 'kof_index'] = 0\n",
    "    temp.loc[temp['wdi_urban_pop']<=0, 'wdi_urban_pop'] = 0\n",
    "    temp.loc[temp['perc_post_secondary']<=0, 'perc_post_secondary'] = 0\n",
    "    temp.loc[temp['wdi_imr']<=0, 'wdi_imr'] = 0\n",
    "    temp.loc[temp['min_distance']<=0, 'min_distance'] = 0\n",
    "    temp.loc[temp['pop_distance']<=0, 'pop_distance'] = 0\n",
    "\n",
    "    imputations.append(temp)\n",
    "    \n",
    "# impute_dataset = imputations[0]\n",
    "# print(impute_dataset)\n",
    "len(imputations)"
   ]
  },
  {
   "cell_type": "code",
   "execution_count": 45,
   "id": "5a07c60f",
   "metadata": {},
   "outputs": [
    {
     "name": "stdout",
     "output_type": "stream",
     "text": [
      "[([2007, 2008, 2009, 2010], 2011), ([2008, 2009, 2010, 2011], 2012), ([2009, 2010, 2011, 2012], 2013), ([2010, 2011, 2012, 2013], 2014), ([2011, 2012, 2013, 2014], 2015), ([2012, 2013, 2014, 2015], 2016), ([2013, 2014, 2015, 2016], 2017)]\n",
      "[2011, 2012, 2013, 2014, 2015, 2016, 2017]\n"
     ]
    }
   ],
   "source": [
    "#Construct year slices -  as this is predictor variable lag - 1998 predicts 1999\n",
    "if DEPVAR == \"asylum seekers\":\n",
    "    year_range = [2007,2017]\n",
    "elif DEPVAR == \"apprehensions\":\n",
    "    year_range = [1999,2017]\n",
    "\n",
    "window = 4\n",
    "step_ahead = 1\n",
    "slices = []\n",
    "for i in range(year_range[0],year_range[1]-window+1):\n",
    "    slices.append(([j for j in range(i,i+window)],i+window-1+step_ahead))\n",
    "\n",
    "print(slices)\n",
    "plot_slices = [s[1] for s in slices]\n",
    "print(plot_slices)"
   ]
  },
  {
   "cell_type": "code",
   "execution_count": 46,
   "id": "d4585521",
   "metadata": {},
   "outputs": [],
   "source": [
    "baseline_columns = ['highest_neighbor_dem', 'area', 'wdi_pop', 'wdi_urban_pop', 'min_distance','pop_distance','perc_rejected_asylum']\n",
    "economy_columns = ['wdi_gdppc_growth', 'wdi_gdppc', 'perc_post_secondary', 'kof_index', 'wdi_imr']\n",
    "climate_columns = ['tmp_pop', 'spei3_gs_pos', 'spei3_gs_neg','spei3_gs_pos_r3','spei3_gs_neg_r3']#,'tmp_pop_sq']\n",
    "# climate_columns = ['tmp_pop', 'spei3_gs_pos', 'spei3_gs_neg']\n",
    "violence_columns = ['casualties_brd', 'annually_affected_20k', 'physical_integrity', 'free_movement', 'homicide']\n",
    "# violence_columns = ['casualties_brd', 'annually_affected_20k']#, 'physical_integrity', 'free_movement', 'homicide']"
   ]
  },
  {
   "cell_type": "code",
   "execution_count": 47,
   "id": "a00f55e4",
   "metadata": {},
   "outputs": [],
   "source": [
    "to_drop = [\n",
    "    [economy_columns+climate_columns,\"Violence\"], #only violence+baseline\n",
    "# ['casualties_brd', 'annually_affected_20k','physical_integrity', 'free_movement', 'homicide']\n",
    "    [economy_columns+violence_columns,\"Climate\"], #only climate+baseline\n",
    "    [climate_columns+violence_columns,\"Economy\"], #only economy+baseline\n",
    "    [[],\"All\"]                               #all\n",
    "#     economy_columns+violence_columns+climate_columns #only baseline\n",
    "]"
   ]
  },
  {
   "cell_type": "code",
   "execution_count": 48,
   "id": "c0777e99",
   "metadata": {},
   "outputs": [
    {
     "name": "stdout",
     "output_type": "stream",
     "text": [
      "{'Violence': {2011: [], 2012: [], 2013: [], 2014: [], 2015: [], 2016: [], 2017: []}, 'Climate': {2011: [], 2012: [], 2013: [], 2014: [], 2015: [], 2016: [], 2017: []}, 'Economy': {2011: [], 2012: [], 2013: [], 2014: [], 2015: [], 2016: [], 2017: []}, 'All': {2011: [], 2012: [], 2013: [], 2014: [], 2015: [], 2016: [], 2017: []}}\n"
     ]
    }
   ],
   "source": [
    "line_plot_mae = {\"Violence\":[],\"Climate\":[],\"Economy\":[],\"All\":[]}\n",
    "line_plot_absolute = {\"Violence\":[],\"Climate\":[],\"Economy\":[],\"All\":[]}\n",
    "line_plot_gt = {\"Violence\":[],\"Climate\":[],\"Economy\":[],\"All\":[]}\n",
    "# temp_years = {}\n",
    "# for y in plot_slices:\n",
    "#     temp_years[y] = []\n",
    "means_all = {\"Violence\":{y:[] for y in plot_slices},\n",
    "             \"Climate\":{y:[] for y in plot_slices},\n",
    "             \"Economy\":{y:[] for y in plot_slices},\n",
    "             \"All\":{y:[] for y in plot_slices}}\n",
    "print(means_all)"
   ]
  },
  {
   "cell_type": "code",
   "execution_count": 49,
   "id": "e94c5589",
   "metadata": {},
   "outputs": [
    {
     "name": "stdout",
     "output_type": "stream",
     "text": [
      "1 / 7\n",
      "['highest_neighbor_dem' 'area' 'wdi_pop' 'wdi_urban_pop' 'min_distance'\n",
      " 'pop_distance' 'perc_rejected_asylum' 'casualties_brd'\n",
      " 'annually_affected_20k' 'physical_integrity' 'free_movement' 'homicide']\n",
      "MAE for this run:  0.36612543328829655\n",
      "Predicted: 21280.49621778482 Original 29296.124183222695\n",
      "Feature importance [('highest_neighbor_dem', 0.035053959602076565), ('area', 0.035772603729717536), ('wdi_pop', 0.1329685921538406), ('wdi_urban_pop', 0.05932065529702065), ('min_distance', 0.09807775250903344), ('pop_distance', 0.2534647045200519), ('perc_rejected_asylum', 0.072338158663247), ('casualties_brd', 0.004960828911710399), ('annually_affected_20k', 0.005115635120862522), ('physical_integrity', 0.054511910338302494), ('free_movement', 0.06003426416658892), ('homicide', 0.18838093498754793)]\n",
      "Original [('mexico', 4896.461210838829, 6.398393846923348, 115.69547300000002), ('el salvador', 3731.800873619352, 5.281101060199642, 6.210567999999994), ('china', 2986.110239802474, 5.158360848915907, 1344.1300000000008), ('guatemala', 2599.286020134586, 4.4289130436411535, 14.948803000000018), ('india', 2561.045326806956, 4.301801020868011, 1250.2887289999987)]\n",
      "Predicted [('china', 3175.058509087345, 5.558544519297146, 1344.1300000000008), ('mexico', 2209.6785292734653, 4.738047324422711, 115.69547300000002), ('india', 2117.673105767124, 4.395990799972545, 1250.2887289999987), ('el salvador', 1611.3004686607371, 4.2991137834194, 6.210567999999994), ('guatemala', 1212.7211885417623, 4.034620820209559, 14.948803000000018)]\n",
      "\n",
      "2 / 7\n",
      "['highest_neighbor_dem' 'area' 'wdi_pop' 'wdi_urban_pop' 'min_distance'\n",
      " 'pop_distance' 'perc_rejected_asylum' 'casualties_brd'\n",
      " 'annually_affected_20k' 'physical_integrity' 'free_movement' 'homicide']\n",
      "MAE for this run:  0.3555047628133021\n",
      "Predicted: 24378.482452363 Original 28794.02107292937\n",
      "Feature importance [('highest_neighbor_dem', 0.03704630220490025), ('area', 0.043919189806444756), ('wdi_pop', 0.10218418088579762), ('wdi_urban_pop', 0.06380274519448716), ('min_distance', 0.1154387746784918), ('pop_distance', 0.2762292251338758), ('perc_rejected_asylum', 0.047111556412390586), ('casualties_brd', 0.004664864503537271), ('annually_affected_20k', 0.004225247265803261), ('physical_integrity', 0.047594908018566764), ('free_movement', 0.04039998977995613), ('homicide', 0.21738301611574856)]\n",
      "Original [('mexico', 4507.141227899268, 6.5597103199299385, 117.27415500000004), ('el salvador', 4404.392398452711, 5.6401384470764535, 6.237922999999996), ('guatemala', 2778.455577056104, 5.203709436982286, 15.270777999999984), ('honduras', 2432.3691094466926, 4.70878333031502, 8.640691000000007), ('china', 2408.459800571686, 3.9867814997979525, 1350.6949999999981)]\n",
      "Predicted [('mexico', 3290.2271268216346, 5.829170640833462, 117.27415500000004), ('china', 3080.0653604923255, 5.25985277635803, 1350.6949999999981), ('india', 2565.6565249269165, 4.473541303275503, 1265.7827900000007), ('el salvador', 2121.3711240637926, 4.151591805342625, 6.237922999999996), ('honduras', 1662.9282491428128, 4.126774778860172, 8.640691000000007)]\n",
      "\n",
      "3 / 7\n",
      "['highest_neighbor_dem' 'area' 'wdi_pop' 'wdi_urban_pop' 'min_distance'\n",
      " 'pop_distance' 'perc_rejected_asylum' 'casualties_brd'\n",
      " 'annually_affected_20k' 'physical_integrity' 'free_movement' 'homicide']\n",
      "MAE for this run:  0.3462830108476456\n",
      "Predicted: 24811.742547745278 Original 38046.19119056025\n",
      "Feature importance [('highest_neighbor_dem', 0.03880376346804147), ('area', 0.05322684589953642), ('wdi_pop', 0.08656238276100155), ('wdi_urban_pop', 0.058211343224549836), ('min_distance', 0.1197619497720475), ('pop_distance', 0.2887085840925828), ('perc_rejected_asylum', 0.037403958152502276), ('casualties_brd', 0.0058937912051017), ('annually_affected_20k', 0.0040850051274409615), ('physical_integrity', 0.03365081078500212), ('free_movement', 0.03005587195878614), ('homicide', 0.24363569355340742)]\n",
      "Original [('el salvador', 6856.499097827233, 6.997802890991889, 6.26607), ('mexico', 5594.417988388752, 6.220655505175539, 118.82716099999985), ('guatemala', 4451.468168674396, 5.653986252539017, 15.595820999999976), ('honduras', 4425.94522302038, 4.716362513550031, 8.798520999999997), ('india', 3109.7730249708707, 4.516968996980626, 1280.8461289999977)]\n",
      "Predicted [('mexico', 3610.1407131417513, 5.842492795598483, 118.82716099999985), ('china', 2749.2606168198395, 5.602355630380167, 1357.3800000000012), ('honduras', 2384.96390624366, 4.660003702385859, 8.798520999999997), ('india', 2269.434782805686, 4.40028267542243, 1280.8461289999977), ('el salvador', 2159.521955891808, 4.140247303660225, 6.26607)]\n",
      "\n",
      "4 / 7\n",
      "['highest_neighbor_dem' 'area' 'wdi_pop' 'wdi_urban_pop' 'min_distance'\n",
      " 'pop_distance' 'perc_rejected_asylum' 'casualties_brd'\n",
      " 'annually_affected_20k' 'physical_integrity' 'free_movement' 'homicide']\n",
      "MAE for this run:  0.32390014136574213\n",
      "Predicted: 29913.152767639433 Original 51338.46831463893\n",
      "Feature importance [('highest_neighbor_dem', 0.03629483972163964), ('area', 0.05505598275122406), ('wdi_pop', 0.06925497353422298), ('wdi_urban_pop', 0.05768104258901723), ('min_distance', 0.1321278187509833), ('pop_distance', 0.24107697713011114), ('perc_rejected_asylum', 0.03242533501103078), ('casualties_brd', 0.004647592111727936), ('annually_affected_20k', 0.004665046421080303), ('physical_integrity', 0.030040675768684855), ('free_movement', 0.027301979990217874), ('homicide', 0.30942773622005987)]\n",
      "Original [('el salvador', 10919.295176694697, 7.458510702069419, 6.295127999999999), ('mexico', 9312.552642394152, 6.855403668255292, 120.35512800000018), ('honduras', 8498.810358977025, 6.110567454647433, 8.955588999999996), ('guatemala', 7174.923082408627, 4.348671743168118, 15.923243000000015), ('india', 2318.1224217168046, 3.9475331219927585, 1295.6041839999987)]\n",
      "Predicted [('mexico', 4543.295819822587, 6.401322414634636, 120.35512800000018), ('honduras', 3833.378142018476, 6.05922390817642, 8.955588999999996), ('el salvador', 3793.7050849765433, 4.994760503373843, 6.295127999999999), ('china', 2580.0368962975663, 4.424045528029925, 1364.269999999998), ('india', 2383.783987551368, 4.16016308434628, 1295.6041839999987)]\n",
      "\n",
      "5 / 7\n",
      "['highest_neighbor_dem' 'area' 'wdi_pop' 'wdi_urban_pop' 'min_distance'\n",
      " 'pop_distance' 'perc_rejected_asylum' 'casualties_brd'\n",
      " 'annually_affected_20k' 'physical_integrity' 'free_movement' 'homicide']\n",
      "MAE for this run:  0.391777081902507\n",
      "Predicted: 34257.896961275575 Original 86476.41868523922\n",
      "Feature importance [('highest_neighbor_dem', 0.03493765814231551), ('area', 0.05455455438552194), ('wdi_pop', 0.0745436201977786), ('wdi_urban_pop', 0.05085395747322866), ('min_distance', 0.14060706683026092), ('pop_distance', 0.21590309518275133), ('perc_rejected_asylum', 0.031089296732528058), ('casualties_brd', 0.005223678824977415), ('annually_affected_20k', 0.005204413660417823), ('physical_integrity', 0.030341620804627364), ('free_movement', 0.02327479342648651), ('homicide', 0.3334662443391058)]\n",
      "Original [('el salvador', 23371.738948075403, 8.214753195017169, 6.325124), ('guatemala', 14211.472227758506, 7.295743778432442, 16.252429000000017), ('honduras', 13432.555123059903, 6.773562446246111, 9.112915999999993), ('mexico', 13199.550243728183, 4.813401802061008, 121.85825800000009), ('india', 4053.094125499677, 4.685079485923705, 1310.1524029999998)]\n",
      "Predicted [('mexico', 6010.968946075954, 6.598302615654615, 121.85825800000009), ('honduras', 5261.530212280835, 6.358484430436237, 9.112915999999993), ('el salvador', 4641.682813622227, 5.454549341843742, 6.325124), ('guatemala', 3800.1344108756894, 4.21293152700138, 16.252429000000017), ('india', 2500.885583423517, 3.9611561157921917, 1310.1524029999998)]\n",
      "\n",
      "6 / 7\n",
      "['highest_neighbor_dem' 'area' 'wdi_pop' 'wdi_urban_pop' 'min_distance'\n",
      " 'pop_distance' 'perc_rejected_asylum' 'casualties_brd'\n",
      " 'annually_affected_20k' 'physical_integrity' 'free_movement' 'homicide']\n",
      "MAE for this run:  0.45909928036815106\n",
      "Predicted: 35935.16896268433 Original 128317.70694265568\n",
      "Feature importance [('highest_neighbor_dem', 0.03276445126320321), ('area', 0.052561672336314556), ('wdi_pop', 0.07234441504653401), ('wdi_urban_pop', 0.05591014611479127), ('min_distance', 0.14994031777189024), ('pop_distance', 0.16725050578883327), ('perc_rejected_asylum', 0.02263216171439689), ('casualties_brd', 0.006299399011379527), ('annually_affected_20k', 0.005502773781573687), ('physical_integrity', 0.03373292084821685), ('free_movement', 0.02915243796596544), ('homicide', 0.37190879835690105)]\n",
      "Original [('el salvador', 37123.61196122014, 8.672586740308013, 6.3561429999999985), ('guatemala', 22608.45302864785, 7.7333846442694405, 16.583060000000017), ('honduras', 21168.167107901467, 7.217697450757091, 9.270794999999998), ('mexico', 15103.945130873026, 6.087548669761916, 123.33337599999999), ('haiti', 4773.279616429551, 5.062666899941733, 10.839969999999989)]\n",
      "Predicted [('mexico', 9275.144210297396, 5.843293353672666, 123.33337599999999), ('guatemala', 5719.719507729528, 5.719121408885863, 16.583060000000017), ('india', 3246.8400768500746, 5.480087341737549, 1324.5095889999982), ('china', 2827.1946734175667, 4.320202372718759, 1378.6650000000004), ('honduras', 2824.228602707775, 4.272653697872844, 9.270794999999998)]\n",
      "\n",
      "7 / 7\n",
      "['highest_neighbor_dem' 'area' 'wdi_pop' 'wdi_urban_pop' 'min_distance'\n",
      " 'pop_distance' 'perc_rejected_asylum' 'casualties_brd'\n",
      " 'annually_affected_20k' 'physical_integrity' 'free_movement' 'homicide']\n"
     ]
    },
    {
     "name": "stdout",
     "output_type": "stream",
     "text": [
      "MAE for this run:  0.4558072174076483\n",
      "Predicted: 63990.309129881614 Original 114564.14185074018\n",
      "Feature importance [('highest_neighbor_dem', 0.0348644972533481), ('area', 0.04487932925562594), ('wdi_pop', 0.05775446937171434), ('wdi_urban_pop', 0.06610520932629323), ('min_distance', 0.17714326517450824), ('pop_distance', 0.17179555339361108), ('perc_rejected_asylum', 0.004632296184682143), ('casualties_brd', 0.006829863116932521), ('annually_affected_20k', 0.008584754538826723), ('physical_integrity', 0.04139089939366784), ('free_movement', 0.03939995792397056), ('homicide', 0.3466199050668193)]\n",
      "Original [('el salvador', 25408.66718872498, 8.28840529422446, 6.3881219999999965), ('guatemala', 23083.975557445927, 7.586909002752796, 16.914935999999983), ('honduras', 18595.97480522869, 7.218696938376158, 9.429012999999998), ('mexico', 14293.278083310603, 5.053053481580959, 124.77732400000018), ('india', 8075.4132009362465, 4.969202653102259, 1338.6588350000025)]\n",
      "Predicted [('mexico', 15580.978312227495, 7.1932255926858595, 124.77732400000018), ('guatemala', 11744.570454013492, 6.766528341875144, 16.914935999999983), ('el salvador', 8498.678171629908, 6.542949305154634, 6.3881219999999965), ('honduras', 8187.138833920225, 4.872190535690629, 9.429012999999998), ('china', 3440.646835750341, 4.827275369571082, 1386.3949999999998)]\n",
      "\n",
      "Average MAE for this imputation:  0.385499561141899\n",
      "Average MAE for all imputations: 0.385499561141899\n",
      "1 / 7\n",
      "['highest_neighbor_dem' 'area' 'wdi_pop' 'wdi_urban_pop' 'min_distance'\n",
      " 'pop_distance' 'perc_rejected_asylum' 'tmp_pop' 'spei3_gs_pos'\n",
      " 'spei3_gs_neg' 'spei3_gs_pos_r3' 'spei3_gs_neg_r3']\n",
      "MAE for this run:  0.4039639447451615\n",
      "Predicted: 21935.024173246104 Original 29296.124183222695\n",
      "Feature importance [('highest_neighbor_dem', 0.04500478186682597), ('area', 0.033227830743334436), ('wdi_pop', 0.16205618330044527), ('wdi_urban_pop', 0.06900633600516394), ('min_distance', 0.1538965948344862), ('pop_distance', 0.35177734526664095), ('perc_rejected_asylum', 0.09460614168481699), ('tmp_pop', 0.02505687832121818), ('spei3_gs_pos', 0.010387407362822216), ('spei3_gs_neg', 0.008790239068187685), ('spei3_gs_pos_r3', 0.022778931730954174), ('spei3_gs_neg_r3', 0.023411329815104055)]\n",
      "Original [('mexico', 4896.461210838829, 6.398393846923348, 115.69547300000002), ('el salvador', 3731.800873619352, 5.281101060199642, 6.210567999999994), ('china', 2986.110239802474, 5.158360848915907, 1344.1300000000008), ('guatemala', 2599.286020134586, 4.4289130436411535, 14.948803000000018), ('india', 2561.045326806956, 4.301801020868011, 1250.2887289999987)]\n",
      "Predicted [('china', 3150.809590773134, 5.668188592041562, 1344.1300000000008), ('mexico', 2174.401254264645, 4.687679164991597, 115.69547300000002), ('india', 2029.1351868116808, 4.675775851675533, 1250.2887289999987), ('el salvador', 1798.0193001072666, 4.229995454806083, 6.210567999999994), ('guatemala', 1623.4525996713219, 4.214142574200976, 14.948803000000018)]\n",
      "\n",
      "2 / 7\n",
      "['highest_neighbor_dem' 'area' 'wdi_pop' 'wdi_urban_pop' 'min_distance'\n",
      " 'pop_distance' 'perc_rejected_asylum' 'tmp_pop' 'spei3_gs_pos'\n",
      " 'spei3_gs_neg' 'spei3_gs_pos_r3' 'spei3_gs_neg_r3']\n",
      "MAE for this run:  0.39206318914410404\n",
      "Predicted: 21912.026215028258 Original 28794.02107292937\n",
      "Feature importance [('highest_neighbor_dem', 0.034833701552049956), ('area', 0.04208039310422536), ('wdi_pop', 0.12950241031934465), ('wdi_urban_pop', 0.06964828948911869), ('min_distance', 0.16357618924050937), ('pop_distance', 0.3769421337005016), ('perc_rejected_asylum', 0.07161805293142137), ('tmp_pop', 0.025799984580902588), ('spei3_gs_pos', 0.010792929684884583), ('spei3_gs_neg', 0.010091567764958441), ('spei3_gs_pos_r3', 0.025104286198941297), ('spei3_gs_neg_r3', 0.040010061433142015)]\n",
      "Original [('mexico', 4507.141227899268, 6.5597103199299385, 117.27415500000004), ('el salvador', 4404.392398452711, 5.6401384470764535, 6.237922999999996), ('guatemala', 2778.455577056104, 5.203709436982286, 15.270777999999984), ('honduras', 2432.3691094466926, 4.70878333031502, 8.640691000000007), ('china', 2408.459800571686, 3.9867814997979525, 1350.6949999999981)]\n",
      "Predicted [('mexico', 3320.2899025777497, 4.851161548513461, 117.27415500000004), ('china', 3137.7842641725597, 4.444029730083569, 1350.6949999999981), ('india', 2465.9304883087966, 4.41248924673999, 1265.7827900000007), ('guatemala', 1259.4498961398126, 3.9786155377948833, 15.270777999999984), ('el salvador', 797.7608157800529, 3.904340568539714, 6.237922999999996)]\n",
      "\n",
      "3 / 7\n",
      "['highest_neighbor_dem' 'area' 'wdi_pop' 'wdi_urban_pop' 'min_distance'\n",
      " 'pop_distance' 'perc_rejected_asylum' 'tmp_pop' 'spei3_gs_pos'\n",
      " 'spei3_gs_neg' 'spei3_gs_pos_r3' 'spei3_gs_neg_r3']\n",
      "MAE for this run:  0.3342113071628781\n",
      "Predicted: 24019.19191421697 Original 38046.19119056025\n",
      "Feature importance [('highest_neighbor_dem', 0.03478106717464518), ('area', 0.041397241484822586), ('wdi_pop', 0.10128859504664432), ('wdi_urban_pop', 0.07853225996390681), ('min_distance', 0.18437012646973747), ('pop_distance', 0.4106370639597425), ('perc_rejected_asylum', 0.04917122239034605), ('tmp_pop', 0.029571997859298087), ('spei3_gs_pos', 0.008958981476442293), ('spei3_gs_neg', 0.00928199234410837), ('spei3_gs_pos_r3', 0.026176508772527255), ('spei3_gs_neg_r3', 0.0258329430577791)]\n",
      "Original [('el salvador', 6856.499097827233, 6.997802890991889, 6.26607), ('mexico', 5594.417988388752, 6.220655505175539, 118.82716099999985), ('guatemala', 4451.468168674396, 5.653986252539017, 15.595820999999976), ('honduras', 4425.94522302038, 4.716362513550031, 8.798520999999997), ('india', 3109.7730249708707, 4.516968996980626, 1280.8461289999977)]\n",
      "Predicted [('mexico', 3927.1807080294307, 5.223189016372134, 118.82716099999985), ('china', 2860.5313682685673, 4.957123771789694, 1357.3800000000012), ('india', 2298.851505871345, 4.934938856368044, 1280.8461289999977), ('guatemala', 2168.8272228100805, 4.493468396155711, 15.595820999999976), ('honduras', 1251.0111345751582, 4.279070703077773, 8.798520999999997)]\n",
      "\n",
      "4 / 7\n",
      "['highest_neighbor_dem' 'area' 'wdi_pop' 'wdi_urban_pop' 'min_distance'\n",
      " 'pop_distance' 'perc_rejected_asylum' 'tmp_pop' 'spei3_gs_pos'\n",
      " 'spei3_gs_neg' 'spei3_gs_pos_r3' 'spei3_gs_neg_r3']\n",
      "MAE for this run:  0.3610939481947814\n",
      "Predicted: 28065.893782402352 Original 51338.46831463893\n",
      "Feature importance [('highest_neighbor_dem', 0.03089530887242637), ('area', 0.049912262283466895), ('wdi_pop', 0.07062886954115193), ('wdi_urban_pop', 0.07751455710215226), ('min_distance', 0.2088337253024536), ('pop_distance', 0.4211350935715442), ('perc_rejected_asylum', 0.041106316784327745), ('tmp_pop', 0.031963306705939054), ('spei3_gs_pos', 0.009125583974547982), ('spei3_gs_neg', 0.009401309788117897), ('spei3_gs_pos_r3', 0.02471774043652075), ('spei3_gs_neg_r3', 0.0247659256373513)]\n",
      "Original [('el salvador', 10919.295176694697, 7.458510702069419, 6.295127999999999), ('mexico', 9312.552642394152, 6.855403668255292, 120.35512800000018), ('honduras', 8498.810358977025, 6.110567454647433, 8.955588999999996), ('guatemala', 7174.923082408627, 4.348671743168118, 15.923243000000015), ('india', 2318.1224217168046, 3.9475331219927585, 1295.6041839999987)]\n",
      "Predicted [('mexico', 4862.689314101884, 6.0879205225254225, 120.35512800000018), ('guatemala', 3321.076273611175, 5.340264322473355, 15.923243000000015), ('el salvador', 2773.0318281146365, 5.316577911000188, 6.295127999999999), ('china', 2400.1224531025296, 4.63797072275967, 1364.269999999998), ('india', 2285.0757447451892, 4.282948406689088, 1295.6041839999987)]\n",
      "\n",
      "5 / 7\n",
      "['highest_neighbor_dem' 'area' 'wdi_pop' 'wdi_urban_pop' 'min_distance'\n",
      " 'pop_distance' 'perc_rejected_asylum' 'tmp_pop' 'spei3_gs_pos'\n",
      " 'spei3_gs_neg' 'spei3_gs_pos_r3' 'spei3_gs_neg_r3']\n",
      "MAE for this run:  0.4448503266299565\n",
      "Predicted: 31267.078543752366 Original 86476.41868523922\n",
      "Feature importance [('highest_neighbor_dem', 0.022455930757326447), ('area', 0.05213462756321709), ('wdi_pop', 0.06063217413300674), ('wdi_urban_pop', 0.06452872377871478), ('min_distance', 0.24731524938529378), ('pop_distance', 0.41883346163904167), ('perc_rejected_asylum', 0.042062986439642805), ('tmp_pop', 0.029013661416603335), ('spei3_gs_pos', 0.0068706320433949255), ('spei3_gs_neg', 0.010267001279996598), ('spei3_gs_pos_r3', 0.021432005031225006), ('spei3_gs_neg_r3', 0.024453546532536855)]\n",
      "Original [('el salvador', 23371.738948075403, 8.214753195017169, 6.325124), ('guatemala', 14211.472227758506, 7.295743778432442, 16.252429000000017), ('honduras', 13432.555123059903, 6.773562446246111, 9.112915999999993), ('mexico', 13199.550243728183, 4.813401802061008, 121.85825800000009), ('india', 4053.094125499677, 4.685079485923705, 1310.1524029999998)]\n",
      "Predicted [('mexico', 6029.374859562715, 6.086807620783098, 121.85825800000009), ('guatemala', 3702.8154581779886, 5.769069577704103, 16.252429000000017), ('honduras', 2918.3169017695336, 5.42860636938277, 9.112915999999993), ('china', 2882.756057105025, 4.154589165737803, 1371.2200000000016), ('el salvador', 2783.14610694276, 4.129729338296209, 6.325124)]\n",
      "\n",
      "6 / 7\n",
      "['highest_neighbor_dem' 'area' 'wdi_pop' 'wdi_urban_pop' 'min_distance'\n",
      " 'pop_distance' 'perc_rejected_asylum' 'tmp_pop' 'spei3_gs_pos'\n",
      " 'spei3_gs_neg' 'spei3_gs_pos_r3' 'spei3_gs_neg_r3']\n"
     ]
    },
    {
     "name": "stdout",
     "output_type": "stream",
     "text": [
      "MAE for this run:  0.47059059228745886\n",
      "Predicted: 46799.257656393005 Original 128317.70694265568\n",
      "Feature importance [('highest_neighbor_dem', 0.029817653169255616), ('area', 0.049530447185993705), ('wdi_pop', 0.05984124829919382), ('wdi_urban_pop', 0.07628486421346606), ('min_distance', 0.28400160686868564), ('pop_distance', 0.3851139919640505), ('perc_rejected_asylum', 0.036689406276080416), ('tmp_pop', 0.0331675958579934), ('spei3_gs_pos', 0.004249642234789833), ('spei3_gs_neg', 0.006464680860092952), ('spei3_gs_pos_r3', 0.01598315222504745), ('spei3_gs_neg_r3', 0.018855710845350482)]\n",
      "Original [('el salvador', 37123.61196122014, 8.672586740308013, 6.3561429999999985), ('guatemala', 22608.45302864785, 7.7333846442694405, 16.583060000000017), ('honduras', 21168.167107901467, 7.217697450757091, 9.270794999999998), ('mexico', 15103.945130873026, 6.087548669761916, 123.33337599999999), ('haiti', 4773.279616429551, 5.062666899941733, 10.839969999999989)]\n",
      "Predicted [('mexico', 8873.903078987221, 6.934477718055305, 123.33337599999999), ('guatemala', 8260.893154215168, 6.378897613592313, 16.583060000000017), ('el salvador', 6528.284419793346, 6.210906298331057, 6.3561429999999985), ('honduras', 5463.073104251518, 4.422268582556246, 9.270794999999998), ('china', 3427.6246720278846, 4.27597894705503, 1378.6650000000004)]\n",
      "\n",
      "7 / 7\n",
      "['highest_neighbor_dem' 'area' 'wdi_pop' 'wdi_urban_pop' 'min_distance'\n",
      " 'pop_distance' 'perc_rejected_asylum' 'tmp_pop' 'spei3_gs_pos'\n",
      " 'spei3_gs_neg' 'spei3_gs_pos_r3' 'spei3_gs_neg_r3']\n",
      "MAE for this run:  0.42997969402629277\n",
      "Predicted: 61690.60138565478 Original 114564.14185074018\n",
      "Feature importance [('highest_neighbor_dem', 0.03691311853516372), ('area', 0.04619610978388284), ('wdi_pop', 0.05790762016799964), ('wdi_urban_pop', 0.07744521680962536), ('min_distance', 0.31137539913294876), ('pop_distance', 0.3614614669198605), ('perc_rejected_asylum', 0.009960514227125638), ('tmp_pop', 0.038137222922018835), ('spei3_gs_pos', 0.009038330838730133), ('spei3_gs_neg', 0.005969261426533857), ('spei3_gs_pos_r3', 0.022630952585354566), ('spei3_gs_neg_r3', 0.02296478665075622)]\n",
      "Original [('el salvador', 25408.66718872498, 8.28840529422446, 6.3881219999999965), ('guatemala', 23083.975557445927, 7.586909002752796, 16.914935999999983), ('honduras', 18595.97480522869, 7.218696938376158, 9.429012999999998), ('mexico', 14293.278083310603, 5.053053481580959, 124.77732400000018), ('india', 8075.4132009362465, 4.969202653102259, 1338.6588350000025)]\n",
      "Predicted [('guatemala', 15998.909560921764, 7.327021986582544, 16.914935999999983), ('el salvador', 9715.349292109884, 6.852078827855535, 6.3881219999999965), ('honduras', 8156.193842311033, 6.762741473039705, 9.429012999999998), ('mexico', 7599.285674705781, 4.631566798075088, 124.77732400000018), ('china', 3111.3872383748094, 4.50744043603434, 1386.3949999999998)]\n",
      "\n",
      "Average MAE for this imputation:  0.4052504288843761\n",
      "Average MAE for all imputations: 0.4052504288843761\n",
      "1 / 7\n",
      "['highest_neighbor_dem' 'area' 'wdi_pop' 'wdi_urban_pop' 'min_distance'\n",
      " 'pop_distance' 'perc_rejected_asylum' 'wdi_gdppc_growth' 'wdi_gdppc'\n",
      " 'perc_post_secondary' 'kof_index' 'wdi_imr']\n",
      "MAE for this run:  0.3470386801597697\n",
      "Predicted: 22562.28883444234 Original 29296.124183222695\n",
      "Feature importance [('highest_neighbor_dem', 0.030923636857760988), ('area', 0.033441703691001606), ('wdi_pop', 0.11200567582775223), ('wdi_urban_pop', 0.04431870528207491), ('min_distance', 0.08921911203474585), ('pop_distance', 0.28525116915693866), ('perc_rejected_asylum', 0.04471181615639822), ('wdi_gdppc_growth', 0.011278232586680703), ('wdi_gdppc', 0.2428349586733786), ('perc_post_secondary', 0.041690278727158046), ('kof_index', 0.0351615948823185), ('wdi_imr', 0.02916311612379166)]\n",
      "Original [('mexico', 4896.461210838829, 6.398393846923348, 115.69547300000002), ('el salvador', 3731.800873619352, 5.281101060199642, 6.210567999999994), ('china', 2986.110239802474, 5.158360848915907, 1344.1300000000008), ('guatemala', 2599.286020134586, 4.4289130436411535, 14.948803000000018), ('india', 2561.045326806956, 4.301801020868011, 1250.2887289999987)]\n",
      "Predicted [('china', 3405.7729714275406, 5.851962770568828, 1344.1300000000008), ('india', 2210.1361110355383, 4.636408470445046, 1250.2887289999987), ('el salvador', 2160.7596479370686, 4.584538765541738, 6.210567999999994), ('mexico', 1870.0557407430765, 4.346736907082613, 115.69547300000002), ('guatemala', 1542.3148253637116, 4.342767696629297, 14.948803000000018)]\n",
      "\n",
      "2 / 7\n",
      "['highest_neighbor_dem' 'area' 'wdi_pop' 'wdi_urban_pop' 'min_distance'\n",
      " 'pop_distance' 'perc_rejected_asylum' 'wdi_gdppc_growth' 'wdi_gdppc'\n",
      " 'perc_post_secondary' 'kof_index' 'wdi_imr']\n",
      "MAE for this run:  0.3645856214161702\n",
      "Predicted: 25146.254274763298 Original 28794.02107292937\n",
      "Feature importance [('highest_neighbor_dem', 0.030143228041977443), ('area', 0.04013630393230811), ('wdi_pop', 0.09823863162773824), ('wdi_urban_pop', 0.04081784961978539), ('min_distance', 0.10088302348130716), ('pop_distance', 0.3082586039500645), ('perc_rejected_asylum', 0.029577578964183046), ('wdi_gdppc_growth', 0.012211937239916372), ('wdi_gdppc', 0.2374937829713406), ('perc_post_secondary', 0.03920688620859617), ('kof_index', 0.03732019210698324), ('wdi_imr', 0.02571198185579978)]\n",
      "Original [('mexico', 4507.141227899268, 6.5597103199299385, 117.27415500000004), ('el salvador', 4404.392398452711, 5.6401384470764535, 6.237922999999996), ('guatemala', 2778.455577056104, 5.203709436982286, 15.270777999999984), ('honduras', 2432.3691094466926, 4.70878333031502, 8.640691000000007), ('china', 2408.459800571686, 3.9867814997979525, 1350.6949999999981)]\n",
      "Predicted [('mexico', 3201.709995837773, 5.972880742242777, 117.27415500000004), ('china', 3133.21596763392, 4.893153526056139, 1350.6949999999981), ('india', 2612.0759517323972, 4.867536932036446, 1265.7827900000007), ('el salvador', 2449.2276688874767, 4.404828628184277, 6.237922999999996), ('guatemala', 2036.7172378614275, 4.334341417675537, 15.270777999999984)]\n",
      "\n",
      "3 / 7\n",
      "['highest_neighbor_dem' 'area' 'wdi_pop' 'wdi_urban_pop' 'min_distance'\n",
      " 'pop_distance' 'perc_rejected_asylum' 'wdi_gdppc_growth' 'wdi_gdppc'\n",
      " 'perc_post_secondary' 'kof_index' 'wdi_imr']\n",
      "MAE for this run:  0.31057063401015644\n",
      "Predicted: 25454.71336301507 Original 38046.19119056025\n",
      "Feature importance [('highest_neighbor_dem', 0.027183587343904213), ('area', 0.043926717639535616), ('wdi_pop', 0.07893069955091528), ('wdi_urban_pop', 0.03523242365286868), ('min_distance', 0.08289797305579706), ('pop_distance', 0.3668448691084392), ('perc_rejected_asylum', 0.024058631187702465), ('wdi_gdppc_growth', 0.014526178968923723), ('wdi_gdppc', 0.21821992368566084), ('perc_post_secondary', 0.04701404892822245), ('kof_index', 0.039607933959533444), ('wdi_imr', 0.021557012918497036)]\n",
      "Original [('el salvador', 6856.499097827233, 6.997802890991889, 6.26607), ('mexico', 5594.417988388752, 6.220655505175539, 118.82716099999985), ('guatemala', 4451.468168674396, 5.653986252539017, 15.595820999999976), ('honduras', 4425.94522302038, 4.716362513550031, 8.798520999999997), ('india', 3109.7730249708707, 4.516968996980626, 1280.8461289999977)]\n",
      "Predicted [('mexico', 3687.9594128194153, 6.012517932118355, 118.82716099999985), ('china', 2666.9921226895954, 5.1474793208319705, 1357.3800000000012), ('el salvador', 2559.756193405149, 5.052470754337122, 6.26607), ('india', 2448.3299449049914, 4.406510190700873, 1280.8461289999977), ('guatemala', 2439.317944063767, 4.208027018380564, 15.595820999999976)]\n",
      "\n",
      "4 / 7\n",
      "['highest_neighbor_dem' 'area' 'wdi_pop' 'wdi_urban_pop' 'min_distance'\n",
      " 'pop_distance' 'perc_rejected_asylum' 'wdi_gdppc_growth' 'wdi_gdppc'\n",
      " 'perc_post_secondary' 'kof_index' 'wdi_imr']\n",
      "MAE for this run:  0.3255811711559129\n",
      "Predicted: 30486.810647946324 Original 51338.46831463893\n",
      "Feature importance [('highest_neighbor_dem', 0.0249106296829051), ('area', 0.05148050199896498), ('wdi_pop', 0.0611946458015667), ('wdi_urban_pop', 0.03749005529350593), ('min_distance', 0.09920929029894181), ('pop_distance', 0.3708252847039507), ('perc_rejected_asylum', 0.024512447883489382), ('wdi_gdppc_growth', 0.01791341368753127), ('wdi_gdppc', 0.21672883742561286), ('perc_post_secondary', 0.039170170326369796), ('kof_index', 0.03575395735787923), ('wdi_imr', 0.02081076553928218)]\n",
      "Original [('el salvador', 10919.295176694697, 7.458510702069419, 6.295127999999999), ('mexico', 9312.552642394152, 6.855403668255292, 120.35512800000018), ('honduras', 8498.810358977025, 6.110567454647433, 8.955588999999996), ('guatemala', 7174.923082408627, 4.348671743168118, 15.923243000000015), ('india', 2318.1224217168046, 3.9475331219927585, 1295.6041839999987)]\n",
      "Predicted [('mexico', 4293.039804802486, 6.381191875979532, 120.35512800000018), ('el salvador', 3718.099303848212, 5.655791443486285, 6.295127999999999), ('guatemala', 3102.2358914168094, 5.2720985200882495, 15.923243000000015), ('china', 2698.131384405698, 4.677818553843297, 1364.269999999998), ('india', 2587.3235246417007, 4.453967709600435, 1295.6041839999987)]\n",
      "\n",
      "5 / 7\n",
      "['highest_neighbor_dem' 'area' 'wdi_pop' 'wdi_urban_pop' 'min_distance'\n",
      " 'pop_distance' 'perc_rejected_asylum' 'wdi_gdppc_growth' 'wdi_gdppc'\n",
      " 'perc_post_secondary' 'kof_index' 'wdi_imr']\n"
     ]
    },
    {
     "name": "stdout",
     "output_type": "stream",
     "text": [
      "MAE for this run:  0.35870124148458\n",
      "Predicted: 31068.260391198597 Original 86476.41868523922\n",
      "Feature importance [('highest_neighbor_dem', 0.02088301515590618), ('area', 0.052461969095719214), ('wdi_pop', 0.05459430586029598), ('wdi_urban_pop', 0.03795251170806401), ('min_distance', 0.14541376600475975), ('pop_distance', 0.3631484747696837), ('perc_rejected_asylum', 0.020833884154673667), ('wdi_gdppc_growth', 0.013718116181925042), ('wdi_gdppc', 0.18875475697869298), ('perc_post_secondary', 0.03809070553067692), ('kof_index', 0.038231782753649496), ('wdi_imr', 0.025916711805953046)]\n",
      "Original [('el salvador', 23371.738948075403, 8.214753195017169, 6.325124), ('guatemala', 14211.472227758506, 7.295743778432442, 16.252429000000017), ('honduras', 13432.555123059903, 6.773562446246111, 9.112915999999993), ('mexico', 13199.550243728183, 4.813401802061008, 121.85825800000009), ('india', 4053.094125499677, 4.685079485923705, 1310.1524029999998)]\n",
      "Predicted [('mexico', 5090.0713340900775, 6.4007351170456195, 121.85825800000009), ('guatemala', 3849.4478682247995, 5.714844525321959, 16.252429000000017), ('el salvador', 3809.543924919851, 5.467442631618547, 6.325124), ('honduras', 2764.284950761417, 4.575421407912499, 9.112915999999993), ('china', 2745.886604717436, 4.289027280494465, 1371.2200000000016)]\n",
      "\n",
      "6 / 7\n",
      "['highest_neighbor_dem' 'area' 'wdi_pop' 'wdi_urban_pop' 'min_distance'\n",
      " 'pop_distance' 'perc_rejected_asylum' 'wdi_gdppc_growth' 'wdi_gdppc'\n",
      " 'perc_post_secondary' 'kof_index' 'wdi_imr']\n",
      "MAE for this run:  0.3955858362295392\n",
      "Predicted: 47501.18033241843 Original 128317.70694265568\n",
      "Feature importance [('highest_neighbor_dem', 0.02039465753105215), ('area', 0.043920820312625904), ('wdi_pop', 0.0553729464795796), ('wdi_urban_pop', 0.04643946726719252), ('min_distance', 0.19080051731435152), ('pop_distance', 0.3406995442413381), ('perc_rejected_asylum', 0.012755127831828552), ('wdi_gdppc_growth', 0.013509866403881785), ('wdi_gdppc', 0.17358579431160104), ('perc_post_secondary', 0.033883915381689306), ('kof_index', 0.041569025264405764), ('wdi_imr', 0.027068317660453714)]\n",
      "Original [('el salvador', 37123.61196122014, 8.672586740308013, 6.3561429999999985), ('guatemala', 22608.45302864785, 7.7333846442694405, 16.583060000000017), ('honduras', 21168.167107901467, 7.217697450757091, 9.270794999999998), ('mexico', 15103.945130873026, 6.087548669761916, 123.33337599999999), ('haiti', 4773.279616429551, 5.062666899941733, 10.839969999999989)]\n",
      "Predicted [('el salvador', 8728.583098037821, 7.224936586182823, 6.3561429999999985), ('guatemala', 8044.654278132362, 6.29846512481735, 16.583060000000017), ('mexico', 7669.446991147611, 6.184381392607024, 123.33337599999999), ('honduras', 5040.871492196595, 4.675191641120319, 9.270794999999998), ('china', 3294.0326479652304, 4.539394200272536, 1378.6650000000004)]\n",
      "\n",
      "7 / 7\n",
      "['highest_neighbor_dem' 'area' 'wdi_pop' 'wdi_urban_pop' 'min_distance'\n",
      " 'pop_distance' 'perc_rejected_asylum' 'wdi_gdppc_growth' 'wdi_gdppc'\n",
      " 'perc_post_secondary' 'kof_index' 'wdi_imr']\n",
      "MAE for this run:  0.3968388392621753\n",
      "Predicted: 61995.477284210894 Original 114564.14185074018\n",
      "Feature importance [('highest_neighbor_dem', 0.021258777508822588), ('area', 0.050399772226636594), ('wdi_pop', 0.054101738497161), ('wdi_urban_pop', 0.04703021281580157), ('min_distance', 0.2409847647946977), ('pop_distance', 0.29743335631730866), ('perc_rejected_asylum', 0.0049939934310145465), ('wdi_gdppc_growth', 0.017350632962901475), ('wdi_gdppc', 0.1661359337998791), ('perc_post_secondary', 0.029619311083088767), ('kof_index', 0.03804744465217687), ('wdi_imr', 0.03264406191051102)]\n",
      "Original [('el salvador', 25408.66718872498, 8.28840529422446, 6.3881219999999965), ('guatemala', 23083.975557445927, 7.586909002752796, 16.914935999999983), ('honduras', 18595.97480522869, 7.218696938376158, 9.429012999999998), ('mexico', 14293.278083310603, 5.053053481580959, 124.77732400000018), ('india', 8075.4132009362465, 4.969202653102259, 1338.6588350000025)]\n",
      "Predicted [('el salvador', 14526.512738815893, 7.7292903950681024, 6.3881219999999965), ('guatemala', 11050.901819551891, 6.482070297643389, 16.914935999999983), ('mexico', 9342.29446919475, 6.42766334869038, 124.77732400000018), ('honduras', 5833.980301360223, 4.635928972092618, 9.429012999999998), ('china', 3588.856275799682, 4.558397912843962, 1386.3949999999998)]\n",
      "\n",
      "Average MAE for this imputation:  0.3569860033883291\n",
      "Average MAE for all imputations: 0.3569860033883291\n",
      "1 / 7\n",
      "['highest_neighbor_dem' 'area' 'wdi_pop' 'wdi_urban_pop' 'min_distance'\n",
      " 'pop_distance' 'perc_rejected_asylum' 'wdi_gdppc_growth' 'wdi_gdppc'\n",
      " 'perc_post_secondary' 'kof_index' 'wdi_imr' 'tmp_pop' 'spei3_gs_pos'\n",
      " 'spei3_gs_neg' 'casualties_brd' 'annually_affected_20k'\n",
      " 'physical_integrity' 'free_movement' 'homicide' 'spei3_gs_pos_r3'\n",
      " 'spei3_gs_neg_r3']\n",
      "MAE for this run:  0.36773323320156953\n",
      "Predicted: 22188.78317782537 Original 29296.124183222695\n",
      "Feature importance [('highest_neighbor_dem', 0.01718151198584033), ('area', 0.024901681469287035), ('wdi_pop', 0.08706812713517076), ('wdi_urban_pop', 0.031616883666320664), ('min_distance', 0.07027162744187578), ('pop_distance', 0.21610662002978884), ('perc_rejected_asylum', 0.039530021224026074), ('wdi_gdppc_growth', 0.0072469914870229675), ('wdi_gdppc', 0.17477026847623942), ('perc_post_secondary', 0.03231933199795525), ('kof_index', 0.020978923148443365), ('wdi_imr', 0.017979958077499438), ('tmp_pop', 0.026978949845065665), ('spei3_gs_pos', 0.003976375371359932), ('spei3_gs_neg', 0.002881720891880305), ('casualties_brd', 0.002706660795512495), ('annually_affected_20k', 0.0027453147974804194), ('physical_integrity', 0.0204992961100768), ('free_movement', 0.04478144504155481), ('homicide', 0.1367339513016273), ('spei3_gs_pos_r3', 0.01026887571771525), ('spei3_gs_neg_r3', 0.008455463988256971)]\n",
      "Original [('mexico', 4896.461210838829, 6.398393846923348, 115.69547300000002), ('el salvador', 3731.800873619352, 5.281101060199642, 6.210567999999994), ('china', 2986.110239802474, 5.158360848915907, 1344.1300000000008), ('guatemala', 2599.286020134586, 4.4289130436411535, 14.948803000000018), ('india', 2561.045326806956, 4.301801020868011, 1250.2887289999987)]\n",
      "Predicted [('china', 3252.2781600085273, 5.824256284916945, 1344.1300000000008), ('india', 2255.7431904001473, 4.687891899469932, 1250.2887289999987), ('el salvador', 2101.714337898186, 4.523029890156423, 6.210567999999994), ('mexico', 1978.89333699791, 4.248674230155736, 115.69547300000002), ('guatemala', 1376.9981013514468, 4.246628114604775, 14.948803000000018)]\n",
      "\n",
      "2 / 7\n",
      "['highest_neighbor_dem' 'area' 'wdi_pop' 'wdi_urban_pop' 'min_distance'\n",
      " 'pop_distance' 'perc_rejected_asylum' 'wdi_gdppc_growth' 'wdi_gdppc'\n",
      " 'perc_post_secondary' 'kof_index' 'wdi_imr' 'tmp_pop' 'spei3_gs_pos'\n",
      " 'spei3_gs_neg' 'casualties_brd' 'annually_affected_20k'\n",
      " 'physical_integrity' 'free_movement' 'homicide' 'spei3_gs_pos_r3'\n",
      " 'spei3_gs_neg_r3']\n",
      "MAE for this run:  0.39097150988292856\n",
      "Predicted: 24235.3220896046 Original 28794.02107292937\n",
      "Feature importance [('highest_neighbor_dem', 0.020305788462690908), ('area', 0.03261379966049466), ('wdi_pop', 0.074401147980592), ('wdi_urban_pop', 0.024302134318879686), ('min_distance', 0.07459070701397559), ('pop_distance', 0.2340204466579816), ('perc_rejected_asylum', 0.02370707468436277), ('wdi_gdppc_growth', 0.0074956949901157175), ('wdi_gdppc', 0.1654560510330846), ('perc_post_secondary', 0.031126152593404576), ('kof_index', 0.02369233669965782), ('wdi_imr', 0.0200632361541738), ('tmp_pop', 0.027063084421695714), ('spei3_gs_pos', 0.003850121431892563), ('spei3_gs_neg', 0.003197502943079185), ('casualties_brd', 0.0022947303979404788), ('annually_affected_20k', 0.0025598501452717445), ('physical_integrity', 0.021586812079751706), ('free_movement', 0.02675845622277888), ('homicide', 0.15748220707342894), ('spei3_gs_pos_r3', 0.008920916747078905), ('spei3_gs_neg_r3', 0.014511748287668056)]\n",
      "Original [('mexico', 4507.141227899268, 6.5597103199299385, 117.27415500000004), ('el salvador', 4404.392398452711, 5.6401384470764535, 6.237922999999996), ('guatemala', 2778.455577056104, 5.203709436982286, 15.270777999999984), ('honduras', 2432.3691094466926, 4.70878333031502, 8.640691000000007), ('china', 2408.459800571686, 3.9867814997979525, 1350.6949999999981)]\n",
      "Predicted [('mexico', 3141.0286794573867, 5.7700092394740174, 117.27415500000004), ('china', 3107.623677521033, 5.281237537526758, 1350.6949999999981), ('india', 2491.755506896486, 4.491508815372884, 1265.7827900000007), ('el salvador', 1999.5081691672242, 4.279913584011557, 6.237922999999996), ('honduras', 1698.872532761451, 4.201513817418538, 8.640691000000007)]\n",
      "\n",
      "3 / 7\n",
      "['highest_neighbor_dem' 'area' 'wdi_pop' 'wdi_urban_pop' 'min_distance'\n",
      " 'pop_distance' 'perc_rejected_asylum' 'wdi_gdppc_growth' 'wdi_gdppc'\n",
      " 'perc_post_secondary' 'kof_index' 'wdi_imr' 'tmp_pop' 'spei3_gs_pos'\n",
      " 'spei3_gs_neg' 'casualties_brd' 'annually_affected_20k'\n",
      " 'physical_integrity' 'free_movement' 'homicide' 'spei3_gs_pos_r3'\n",
      " 'spei3_gs_neg_r3']\n"
     ]
    },
    {
     "name": "stdout",
     "output_type": "stream",
     "text": [
      "MAE for this run:  0.3384074204185841\n",
      "Predicted: 24413.696049817823 Original 38046.19119056025\n",
      "Feature importance [('highest_neighbor_dem', 0.018977642552996072), ('area', 0.041329347573141516), ('wdi_pop', 0.060156709064891636), ('wdi_urban_pop', 0.020760830027132103), ('min_distance', 0.06896006145395454), ('pop_distance', 0.24412805088591746), ('perc_rejected_asylum', 0.019963491660194368), ('wdi_gdppc_growth', 0.009612573798656439), ('wdi_gdppc', 0.1429588661248298), ('perc_post_secondary', 0.038724700334764835), ('kof_index', 0.026143065134311926), ('wdi_imr', 0.019036932346093573), ('tmp_pop', 0.02653328059354714), ('spei3_gs_pos', 0.0036261328016407805), ('spei3_gs_neg', 0.0032048334460546392), ('casualties_brd', 0.00258107436826682), ('annually_affected_20k', 0.0027445715857685794), ('physical_integrity', 0.01917242723666573), ('free_movement', 0.017975995515078346), ('homicide', 0.19103308621672244), ('spei3_gs_pos_r3', 0.011117971602701301), ('spei3_gs_neg_r3', 0.011258355676669782)]\n",
      "Original [('el salvador', 6856.499097827233, 6.997802890991889, 6.26607), ('mexico', 5594.417988388752, 6.220655505175539, 118.82716099999985), ('guatemala', 4451.468168674396, 5.653986252539017, 15.595820999999976), ('honduras', 4425.94522302038, 4.716362513550031, 8.798520999999997), ('india', 3109.7730249708707, 4.516968996980626, 1280.8461289999977)]\n",
      "Predicted [('mexico', 3539.3262359697655, 5.7560230363037554, 118.82716099999985), ('china', 2683.438441654066, 5.4844473695355, 1357.3800000000012), ('india', 2372.2135578316966, 4.738058241960279, 1280.8461289999977), ('honduras', 2119.702459900796, 4.391971463372409, 8.798520999999997), ('el salvador', 1980.634249000394, 4.179810798106325, 6.26607)]\n",
      "\n",
      "4 / 7\n",
      "['highest_neighbor_dem' 'area' 'wdi_pop' 'wdi_urban_pop' 'min_distance'\n",
      " 'pop_distance' 'perc_rejected_asylum' 'wdi_gdppc_growth' 'wdi_gdppc'\n",
      " 'perc_post_secondary' 'kof_index' 'wdi_imr' 'tmp_pop' 'spei3_gs_pos'\n",
      " 'spei3_gs_neg' 'casualties_brd' 'annually_affected_20k'\n",
      " 'physical_integrity' 'free_movement' 'homicide' 'spei3_gs_pos_r3'\n",
      " 'spei3_gs_neg_r3']\n",
      "MAE for this run:  0.3281876259731255\n",
      "Predicted: 29918.20860718361 Original 51338.46831463893\n",
      "Feature importance [('highest_neighbor_dem', 0.01883507495304082), ('area', 0.04473925757782884), ('wdi_pop', 0.05192691529920313), ('wdi_urban_pop', 0.024949643245064948), ('min_distance', 0.08762674006730245), ('pop_distance', 0.20920627448822957), ('perc_rejected_asylum', 0.0197232339799215), ('wdi_gdppc_growth', 0.009599789851327107), ('wdi_gdppc', 0.12808373478212282), ('perc_post_secondary', 0.03230508364237029), ('kof_index', 0.03014319441301053), ('wdi_imr', 0.018576779022645307), ('tmp_pop', 0.019266074970911), ('spei3_gs_pos', 0.003971484165130939), ('spei3_gs_neg', 0.0034806376786144723), ('casualties_brd', 0.002100603029453831), ('annually_affected_20k', 0.0028480412762329132), ('physical_integrity', 0.017818877819043823), ('free_movement', 0.011384046876637403), ('homicide', 0.24343460127324268), ('spei3_gs_pos_r3', 0.01233446036716085), ('spei3_gs_neg_r3', 0.0076454512215047765)]\n",
      "Original [('el salvador', 10919.295176694697, 7.458510702069419, 6.295127999999999), ('mexico', 9312.552642394152, 6.855403668255292, 120.35512800000018), ('honduras', 8498.810358977025, 6.110567454647433, 8.955588999999996), ('guatemala', 7174.923082408627, 4.348671743168118, 15.923243000000015), ('india', 2318.1224217168046, 3.9475331219927585, 1295.6041839999987)]\n",
      "Predicted [('mexico', 3927.7405477470384, 6.385845231684248, 120.35512800000018), ('honduras', 3814.5821527249013, 6.054308603595298, 8.955588999999996), ('el salvador', 3735.44126030734, 4.987679955394741, 6.295127999999999), ('china', 2673.017498594184, 4.429097990598861, 1364.269999999998), ('india', 2556.4037800800843, 4.231397204187071, 1295.6041839999987)]\n",
      "\n",
      "5 / 7\n",
      "['highest_neighbor_dem' 'area' 'wdi_pop' 'wdi_urban_pop' 'min_distance'\n",
      " 'pop_distance' 'perc_rejected_asylum' 'wdi_gdppc_growth' 'wdi_gdppc'\n",
      " 'perc_post_secondary' 'kof_index' 'wdi_imr' 'tmp_pop' 'spei3_gs_pos'\n",
      " 'spei3_gs_neg' 'casualties_brd' 'annually_affected_20k'\n",
      " 'physical_integrity' 'free_movement' 'homicide' 'spei3_gs_pos_r3'\n",
      " 'spei3_gs_neg_r3']\n",
      "MAE for this run:  0.40593627782841396\n",
      "Predicted: 34107.607386173855 Original 86476.41868523922\n",
      "Feature importance [('highest_neighbor_dem', 0.017025744924077647), ('area', 0.04077454406521523), ('wdi_pop', 0.043364592218091184), ('wdi_urban_pop', 0.03092819712393787), ('min_distance', 0.10667980159340816), ('pop_distance', 0.1909398461896496), ('perc_rejected_asylum', 0.014577004464783244), ('wdi_gdppc_growth', 0.00818412524279348), ('wdi_gdppc', 0.10338159907848439), ('perc_post_secondary', 0.0364921060309084), ('kof_index', 0.02907189337584726), ('wdi_imr', 0.023943786031832972), ('tmp_pop', 0.016214213603808276), ('spei3_gs_pos', 0.0032712882918479493), ('spei3_gs_neg', 0.004350550592495813), ('casualties_brd', 0.0025383466369378396), ('annually_affected_20k', 0.0028562551594394194), ('physical_integrity', 0.02161388283863106), ('free_movement', 0.009921476040603944), ('homicide', 0.2736650142127836), ('spei3_gs_pos_r3', 0.00985909549337411), ('spei3_gs_neg_r3', 0.010346636791048667)]\n",
      "Original [('el salvador', 23371.738948075403, 8.214753195017169, 6.325124), ('guatemala', 14211.472227758506, 7.295743778432442, 16.252429000000017), ('honduras', 13432.555123059903, 6.773562446246111, 9.112915999999993), ('mexico', 13199.550243728183, 4.813401802061008, 121.85825800000009), ('india', 4053.094125499677, 4.685079485923705, 1310.1524029999998)]\n",
      "Predicted [('mexico', 5567.171888199844, 6.665611044095986, 121.85825800000009), ('honduras', 5080.43169845647, 6.3234587691027695, 9.112915999999993), ('el salvador', 4964.861512100149, 5.513361944657951, 6.325124), ('guatemala', 4030.333150678937, 4.234219572899871, 16.252429000000017), ('india', 2395.39983331285, 3.8217839143522556, 1310.1524029999998)]\n",
      "\n",
      "6 / 7\n",
      "['highest_neighbor_dem' 'area' 'wdi_pop' 'wdi_urban_pop' 'min_distance'\n",
      " 'pop_distance' 'perc_rejected_asylum' 'wdi_gdppc_growth' 'wdi_gdppc'\n",
      " 'perc_post_secondary' 'kof_index' 'wdi_imr' 'tmp_pop' 'spei3_gs_pos'\n",
      " 'spei3_gs_neg' 'casualties_brd' 'annually_affected_20k'\n",
      " 'physical_integrity' 'free_movement' 'homicide' 'spei3_gs_pos_r3'\n",
      " 'spei3_gs_neg_r3']\n",
      "MAE for this run:  0.4675818394102094\n",
      "Predicted: 35211.99378247646 Original 128317.70694265568\n",
      "Feature importance [('highest_neighbor_dem', 0.014210203904485186), ('area', 0.03133851076157011), ('wdi_pop', 0.03716841830246041), ('wdi_urban_pop', 0.040903256670658035), ('min_distance', 0.12472864150142986), ('pop_distance', 0.1397323710659628), ('perc_rejected_asylum', 0.007972782775875037), ('wdi_gdppc_growth', 0.01056258441198743), ('wdi_gdppc', 0.09150546554372896), ('perc_post_secondary', 0.025745651492525782), ('kof_index', 0.030109878864887498), ('wdi_imr', 0.02021632458483279), ('tmp_pop', 0.01881961408579086), ('spei3_gs_pos', 0.003005128541037144), ('spei3_gs_neg', 0.003938834716531616), ('casualties_brd', 0.003966514683196589), ('annually_affected_20k', 0.003514793196169625), ('physical_integrity', 0.029097107365620847), ('free_movement', 0.012164511870085664), ('homicide', 0.32818074973764977), ('spei3_gs_pos_r3', 0.010030431216027931), ('spei3_gs_neg_r3', 0.013088224707486025)]\n",
      "Original [('el salvador', 37123.61196122014, 8.672586740308013, 6.3561429999999985), ('guatemala', 22608.45302864785, 7.7333846442694405, 16.583060000000017), ('honduras', 21168.167107901467, 7.217697450757091, 9.270794999999998), ('mexico', 15103.945130873026, 6.087548669761916, 123.33337599999999), ('haiti', 4773.279616429551, 5.062666899941733, 10.839969999999989)]\n",
      "Predicted [('mexico', 8783.456341241299, 5.705514971659577, 123.33337599999999), ('guatemala', 4983.544501062929, 5.594983539802142, 16.583060000000017), ('india', 3102.417817428501, 5.583576632873829, 1324.5095889999982), ('china', 2920.030036574219, 4.265734206982692, 1378.6650000000004), ('honduras', 2466.2295596945714, 3.973985104442066, 9.270794999999998)]\n",
      "\n",
      "7 / 7\n",
      "['highest_neighbor_dem' 'area' 'wdi_pop' 'wdi_urban_pop' 'min_distance'\n",
      " 'pop_distance' 'perc_rejected_asylum' 'wdi_gdppc_growth' 'wdi_gdppc'\n",
      " 'perc_post_secondary' 'kof_index' 'wdi_imr' 'tmp_pop' 'spei3_gs_pos'\n",
      " 'spei3_gs_neg' 'casualties_brd' 'annually_affected_20k'\n",
      " 'physical_integrity' 'free_movement' 'homicide' 'spei3_gs_pos_r3'\n",
      " 'spei3_gs_neg_r3']\n"
     ]
    },
    {
     "name": "stdout",
     "output_type": "stream",
     "text": [
      "MAE for this run:  0.48031743615375483\n",
      "Predicted: 61593.15228034389 Original 114564.14185074018\n",
      "Feature importance [('highest_neighbor_dem', 0.015327810745498972), ('area', 0.035482198896558015), ('wdi_pop', 0.03406207616470399), ('wdi_urban_pop', 0.044527184982116566), ('min_distance', 0.15183393447908283), ('pop_distance', 0.14215585265469158), ('perc_rejected_asylum', 0.0020524763826670974), ('wdi_gdppc_growth', 0.010506796318189016), ('wdi_gdppc', 0.09722776115058791), ('perc_post_secondary', 0.01727655046683384), ('kof_index', 0.02855195418985344), ('wdi_imr', 0.023164517326654453), ('tmp_pop', 0.018813378463894977), ('spei3_gs_pos', 0.004488795958039334), ('spei3_gs_neg', 0.0029789739164698447), ('casualties_brd', 0.004243664296541144), ('annually_affected_20k', 0.004417185587570483), ('physical_integrity', 0.023172142384893846), ('free_movement', 0.014885615182837392), ('homicide', 0.2971717754165612), ('spei3_gs_pos_r3', 0.011260793899446363), ('spei3_gs_neg_r3', 0.0163985611363078)]\n",
      "Original [('el salvador', 25408.66718872498, 8.28840529422446, 6.3881219999999965), ('guatemala', 23083.975557445927, 7.586909002752796, 16.914935999999983), ('honduras', 18595.97480522869, 7.218696938376158, 9.429012999999998), ('mexico', 14293.278083310603, 5.053053481580959, 124.77732400000018), ('india', 8075.4132009362465, 4.969202653102259, 1338.6588350000025)]\n",
      "Predicted [('mexico', 13999.92670101511, 7.259177185666194, 124.77732400000018), ('guatemala', 10541.312291355489, 6.582079953948755, 16.914935999999983), ('el salvador', 9078.075630308715, 6.43486030156484, 6.3881219999999965), ('honduras', 6808.120563281484, 5.070682210128646, 9.429012999999998), ('china', 3259.623292120562, 4.720276632233744, 1386.3949999999998)]\n",
      "\n",
      "Average MAE for this imputation:  0.3970193346955123\n",
      "Average MAE for all imputations: 0.3970193346955123\n"
     ]
    }
   ],
   "source": [
    "x = [\"Violence\",\"Climate\",\"Economy\",\"All\"]\n",
    "y = []\n",
    "all_predictions = []\n",
    "for dropped in to_drop:\n",
    "    avg_tot_mae = 0\n",
    "    for impute_dataset in imputations:\n",
    "        \n",
    "        grouped_countries = impute_dataset.groupby(['country'])\n",
    "        # Lag the dataset\n",
    "        lagged_frame_original = pd.DataFrame()\n",
    "        for country, feats in grouped_countries:\n",
    "            features = grouped_countries.get_group(country).sort_values(by='year')\n",
    "#             print(grouped_countries.get_group(country).sort_values(by='n_asylum_28'))\n",
    "            features['depvar'] = features['depvar'].shift(-1)\n",
    "            features = features[:-1] # to lag \n",
    "            lagged_frame_original = pd.concat([lagged_frame_original,features])\n",
    "        \n",
    "#         to_scaler_feat = lagged_frame_original.drop(columns=['country','year','depvar']+dropped[0]).to_numpy()\n",
    "#         to_scaler_lbl = lagged_frame_original.drop(columns=['depvar']).to_numpy()\n",
    "#         ss = StandardScaler(with_mean=True,with_std=True)\n",
    "#         ss.fit(to_scaler_feat,to_scaler_lbl)\n",
    "#         m,v = ss.mean_,ss.var_\n",
    "#         sc = np.sqrt(v)\n",
    "#         print(to_scaler_feat.shape)\n",
    "#         print(m.shape)\n",
    "#         print(v.shape)\n",
    "        \n",
    "        \n",
    "        avg_mae = 0\n",
    "#         clf = RandomForestRegressor(n_estimators=1000, min_samples_split=5)\n",
    "        for idx in range(len(slices)):\n",
    "            s = slices[idx]\n",
    "            print(idx+1,\"/\",len(slices))\n",
    "            lagged_frame = lagged_frame_original.drop(columns=dropped[0])\n",
    "\n",
    "            train_set = lagged_frame.loc[lagged_frame['year'].isin(s[0])]\n",
    "            train_features = train_set.drop(columns=['country','year','depvar','index']).to_numpy()\n",
    "            all_col_lbls = train_set.drop(columns=['country','year','depvar','index']).columns.values\n",
    "            print(all_col_lbls)\n",
    "            train_targets = train_set['depvar'].to_numpy()\n",
    "#             scaler_train = StandardScaler(with_mean=True,with_std=True)\n",
    "#             scaler_train.mean_ = m\n",
    "#             scaler_train.var_ = v\n",
    "#             scaler_train.scale_ = sc\n",
    "#             print(train_features.shape)\n",
    "#             train_features = scaler_train.fit_transform(train_features,train_targets)\n",
    "#             train_features = scaler_train.transform(train_features)\n",
    "\n",
    "            test_set = lagged_frame.loc[lagged_frame['year'] == s[1]]\n",
    "#             print(test_set)\n",
    "            test_features = test_set.drop(columns=['country','year','depvar','index']).to_numpy()\n",
    "            test_targets = test_set['depvar'].to_numpy()\n",
    "#             scaler_test = StandardScaler(with_mean=True,with_std=True)\n",
    "#             scaler_test.mean_ = m\n",
    "#             scaler_test.var_ = v\n",
    "#             scaler_test.scale_ = sc\n",
    "#             test_features = scaler_test.fit_transform(test_features)\n",
    "#             test_features = scaler_train.transform(test_features)\n",
    "\n",
    "            clf = RandomForestRegressor(n_estimators=1000, min_samples_split=5)\n",
    "#             clf = LinearRegression()\n",
    "            clf.fit(train_features,train_targets)\n",
    "            predictions = clf.predict(test_features)\n",
    "#             for p in predictions:\n",
    "#                 all_predictions.append((s[1],np.exp(p)))\n",
    "            new_pred = []\n",
    "            new_test = []\n",
    "            cnt=0\n",
    "            for i in range(len(predictions)):\n",
    "                new_pred.append(predictions[i])\n",
    "                new_test.append(test_targets[i])\n",
    "#             print(new_pred)\n",
    "#             print(new_test)\n",
    "            mae = mean_absolute_error(new_test,new_pred)\n",
    "#             print(set(zip(np.exp((new_pred)*(test_set['wdi_pop']/1e6)),np.exp((new_test)*(test_set['wdi_pop']/1e6)))))\n",
    "            print(\"MAE for this run: \",mae)\n",
    "            line_plot_mae[dropped[1]].append(mae)\n",
    "            means_all[dropped[1]][s[1]].append(mae)\n",
    "#             print(means_all)\n",
    "            country_multipliers = (np.exp(test_set['wdi_pop'])/1e6).to_numpy()\n",
    "#             print(country_multipliers)\n",
    "            original_var_cumm = np.multiply(country_multipliers,(np.exp(new_test)))\n",
    "            predicted_var_cumm = np.multiply(country_multipliers,(np.exp(new_pred)))\n",
    "            original_depvar = np.array(new_test)\n",
    "            predicted_depvar = np.array(new_pred)\n",
    "            idx_orig = np.argsort(-original_var_cumm)[:5]\n",
    "            vals_orig = np.sort(-original_var_cumm)[:5]\n",
    "            idx_pred = np.argsort(-predicted_var_cumm)[:5]\n",
    "            vals_pred = np.sort(-predicted_var_cumm)[:5]\n",
    "            depvar_orig = np.sort(-original_depvar)[:5]\n",
    "            depvar_pred = np.sort(-predicted_depvar)[:5]\n",
    "            mm = test_set['country'].reset_index()\n",
    "            print(\"Predicted:\",predicted_var_cumm.sum(),\"Original\",original_var_cumm.sum())\n",
    "            print(\"Feature importance\",list(zip(all_col_lbls,clf.feature_importances_)))\n",
    "            print(\"Original\",list(zip(mm.iloc[idx_orig]['country'].to_numpy(),list(-vals_orig),list(-depvar_orig),country_multipliers[idx_orig])))\n",
    "            print(\"Predicted\",list(zip(mm.iloc[idx_pred]['country'].to_numpy(),list(-vals_pred),list(-depvar_pred),country_multipliers[idx_pred])))\n",
    "            print()\n",
    "\n",
    "            line_plot_absolute[dropped[1]].append(np.multiply(country_multipliers,(np.exp(new_pred))).sum())\n",
    "            line_plot_gt[dropped[1]].append(np.multiply(country_multipliers,(np.exp(new_test))).sum())\n",
    "#             line_plot_gt[dropped[1]].append(np.exp(new_test).sum())\n",
    "            avg_mae+=mae\n",
    "            \n",
    "        print(\"Average MAE for this imputation: \",avg_mae/len(slices))\n",
    "        avg_tot_mae += avg_mae/len(slices)\n",
    "#     break\n",
    "    print(\"Average MAE for all imputations:\",avg_tot_mae/n_imputations)#,\" Dropped cols: \",dropped)\n",
    "    y.append(avg_tot_mae/n_imputations)"
   ]
  },
  {
   "cell_type": "code",
   "execution_count": 50,
   "id": "13e02f34",
   "metadata": {},
   "outputs": [
    {
     "name": "stdout",
     "output_type": "stream",
     "text": [
      "[[0.36612543328829655, 0.3555047628133021, 0.3462830108476456, 0.32390014136574213, 0.391777081902507, 0.45909928036815106, 0.4558072174076483], [0.4039639447451615, 0.39206318914410404, 0.3342113071628781, 0.3610939481947814, 0.4448503266299565, 0.47059059228745886, 0.42997969402629277], [0.3470386801597697, 0.3645856214161702, 0.31057063401015644, 0.3255811711559129, 0.35870124148458, 0.3955858362295392, 0.3968388392621753], [0.36773323320156953, 0.39097150988292856, 0.3384074204185841, 0.3281876259731255, 0.40593627782841396, 0.4675818394102094, 0.48031743615375483]]\n",
      "[[0.0, 0.0, 0.0, 0.0, 0.0, 0.0, 0.0], [0.0, 0.0, 0.0, 0.0, 0.0, 0.0, 0.0], [0.0, 0.0, 0.0, 0.0, 0.0, 0.0, 0.0], [0.0, 0.0, 0.0, 0.0, 0.0, 0.0, 0.0]]\n"
     ]
    }
   ],
   "source": [
    "year_mean = [[np.mean(means_all[lbl][y]) for y in means_all[lbl]] for lbl in means_all]\n",
    "year_std = [[np.std(means_all[lbl][y]) for y in means_all[lbl]] for lbl in means_all]\n",
    "print(year_mean)\n",
    "print(year_std)"
   ]
  },
  {
   "cell_type": "code",
   "execution_count": 51,
   "id": "f48a18c0",
   "metadata": {},
   "outputs": [
    {
     "data": {
      "text/plain": [
       "Text(0.5, 1.0, 'Global - MAE of RF model predictions (apprehensions)')"
      ]
     },
     "execution_count": 51,
     "metadata": {},
     "output_type": "execute_result"
    },
    {
     "data": {
      "image/png": "[encoded data removed]",
      "text/plain": [
       "<Figure size 432x288 with 1 Axes>"
      ]
     },
     "metadata": {
      "needs_background": "light"
     },
     "output_type": "display_data"
    }
   ],
   "source": [
    "plt.errorbar(plot_slices,year_mean[0],yerr=year_std[0],label=\"Violence\")\n",
    "plt.errorbar(plot_slices,year_mean[1],yerr=year_std[1],label=\"Climate\")\n",
    "plt.errorbar(plot_slices,year_mean[2],yerr=year_std[2],label=\"Economy\")\n",
    "plt.errorbar(plot_slices,year_mean[3],yerr=year_std[3],label=\"All\")\n",
    "plt.legend(loc=\"upper left\")\n",
    "plt.xlabel(\"Year\")\n",
    "plt.ylabel(\"Average MAE +/- Std Dev\")\n",
    "plt.title(\"Global - MAE of RF model predictions (apprehensions)\")\n",
    "# plt.savefig('Global-MAE asylum applications.png')"
   ]
  },
  {
   "cell_type": "code",
   "execution_count": 52,
   "id": "fbf4b758",
   "metadata": {},
   "outputs": [],
   "source": [
    "x = [\"Violence\",\"Climate\",\"Economy\",\"All\"]\n",
    "y = [round(y_,2) for y_ in y]"
   ]
  },
  {
   "cell_type": "code",
   "execution_count": 53,
   "id": "fd866fa5",
   "metadata": {},
   "outputs": [
    {
     "data": {
      "text/plain": [
       "[Text(0, 0, '0.39'), Text(0, 0, '0.41'), Text(0, 0, '0.36'), Text(0, 0, '0.4')]"
      ]
     },
     "execution_count": 53,
     "metadata": {},
     "output_type": "execute_result"
    },
    {
     "data": {
      "image/png": "[encoded data removed]",
      "text/plain": [
       "<Figure size 432x288 with 1 Axes>"
      ]
     },
     "metadata": {
      "needs_background": "light"
     },
     "output_type": "display_data"
    }
   ],
   "source": [
    "width = 0.35  # the width of the bars\n",
    "fig, ax = plt.subplots()\n",
    "rects1 = ax.bar(np.arange(len(x)) - width/2, y, width, label='Apprehensions')\n",
    "# rects2 = ax.bar(np.arange(len(x)) + width/2, y_gt, width, label='Original (EU)')\n",
    "\n",
    "ax.set_ylabel('Average MAE')\n",
    "ax.set_title('Global vs EU')\n",
    "ax.set_xticks(np.arange(len(x)))\n",
    "ax.set_xticklabels(x)\n",
    "ax.legend(loc = \"lower right\")\n",
    "\n",
    "ax.bar_label(rects1, padding=0)\n",
    "# ax.bar_label(rects2, padding=0)\n",
    "\n",
    "\n",
    "# plt.savefig('Global vs EU average MAE - RF fit')"
   ]
  },
  {
   "cell_type": "code",
   "execution_count": 54,
   "id": "0f9f7009",
   "metadata": {},
   "outputs": [
    {
     "data": {
      "text/plain": [
       "Text(0.5, 0, 'Year')"
      ]
     },
     "execution_count": 54,
     "metadata": {},
     "output_type": "execute_result"
    },
    {
     "data": {
      "image/png": "[encoded data removed]",
      "text/plain": [
       "<Figure size 432x288 with 1 Axes>"
      ]
     },
     "metadata": {
      "needs_background": "light"
     },
     "output_type": "display_data"
    }
   ],
   "source": [
    "for lbl in x:\n",
    "    f = []\n",
    "#     print(len(line_plot_absolute[lbl]),len(plot_slices))\n",
    "    mult = int(len(line_plot_absolute[lbl])/len(plot_slices))\n",
    "    for i in range(0,len(slices)):\n",
    "        f.append(np.mean(line_plot_absolute[lbl][i*mult:(i+1)*mult]))\n",
    "#     print(len(f))\n",
    "    plt.plot(plot_slices,f,label=lbl)\n",
    "plt.plot(plot_slices,line_plot_gt[\"Violence\"][:len(plot_slices)],label=\"GT\")\n",
    "plt.legend(loc=\"upper left\")\n",
    "plt.ylabel('Total Asylum')\n",
    "plt.xlabel('Year')"
   ]
  },
  {
   "cell_type": "code",
   "execution_count": 55,
   "id": "4fac8707",
   "metadata": {},
   "outputs": [
    {
     "data": {
      "text/plain": [
       "Text(0.5, 0, 'Year')"
      ]
     },
     "execution_count": 55,
     "metadata": {},
     "output_type": "execute_result"
    },
    {
     "data": {
      "image/png": "[encoded data removed]",
      "text/plain": [
       "<Figure size 432x288 with 1 Axes>"
      ]
     },
     "metadata": {
      "needs_background": "light"
     },
     "output_type": "display_data"
    }
   ],
   "source": [
    "plt.plot(plot_slices,line_plot_absolute[\"Violence\"],label=\"Violence\")\n",
    "plt.plot(plot_slices,line_plot_absolute[\"Climate\"],label=\"Climate\")\n",
    "plt.plot(plot_slices,line_plot_absolute[\"Economy\"],label=\"Economy\")\n",
    "plt.plot(plot_slices,line_plot_absolute[\"All\"],label=\"All\")\n",
    "plt.plot(plot_slices,line_plot_gt[\"All\"],label=\"GT\")\n",
    "plt.legend(loc=\"upper right\")\n",
    "plt.ylabel('Total Apprehensions')\n",
    "plt.xlabel('Year')"
   ]
  },
  {
   "cell_type": "code",
   "execution_count": null,
   "id": "77692150",
   "metadata": {},
   "outputs": [],
   "source": []
  },
  {
   "cell_type": "code",
   "execution_count": null,
   "id": "d71032f4",
   "metadata": {},
   "outputs": [],
   "source": []
  },
  {
   "cell_type": "code",
   "execution_count": null,
   "id": "93aab651",
   "metadata": {},
   "outputs": [],
   "source": []
  },
  {
   "cell_type": "code",
   "execution_count": null,
   "id": "6c6b95f0",
   "metadata": {},
   "outputs": [],
   "source": []
  },
  {
   "cell_type": "code",
   "execution_count": null,
   "id": "06d706fe",
   "metadata": {},
   "outputs": [],
   "source": []
  },
  {
   "cell_type": "code",
   "execution_count": null,
   "id": "eeb6c7ae",
   "metadata": {},
   "outputs": [],
   "source": []
  },
  {
   "cell_type": "code",
   "execution_count": null,
   "id": "18c0a2dd",
   "metadata": {},
   "outputs": [],
   "source": []
  },
  {
   "cell_type": "code",
   "execution_count": null,
   "id": "2c06cc89",
   "metadata": {},
   "outputs": [],
   "source": []
  },
  {
   "cell_type": "code",
   "execution_count": null,
   "id": "e5f49482",
   "metadata": {},
   "outputs": [],
   "source": []
  },
  {
   "cell_type": "code",
   "execution_count": null,
   "id": "3ad77177",
   "metadata": {},
   "outputs": [],
   "source": []
  }
 ],
 "metadata": {
  "kernelspec": {
   "display_name": "Python 3",
   "language": "python",
   "name": "python3"
  },
  "language_info": {
   "codemirror_mode": {
    "name": "ipython",
    "version": 3
   },
   "file_extension": ".py",
   "mimetype": "text/x-python",
   "name": "python",
   "nbconvert_exporter": "python",
   "pygments_lexer": "ipython3",
   "version": "3.7.10"
  }
 },
 "nbformat": 4,
 "nbformat_minor": 5
}
