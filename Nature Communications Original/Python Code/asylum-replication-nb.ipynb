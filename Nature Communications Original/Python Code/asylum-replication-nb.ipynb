{
 "cells": [
  {
   "cell_type": "code",
   "execution_count": 1,
   "id": "bb5a8903",
   "metadata": {},
   "outputs": [],
   "source": [
    "import pandas as pd\n",
    "import numpy as np\n",
    "from sklearn.ensemble import RandomForestRegressor\n",
    "from sklearn.metrics import mean_absolute_error\n",
    "from sklearn.metrics import mean_squared_error\n",
    "from sklearn.preprocessing import StandardScaler \n",
    "import time\n",
    "import warnings\n",
    "import matplotlib.pyplot as plt"
   ]
  },
  {
   "cell_type": "code",
   "execution_count": 2,
   "id": "d498d75b",
   "metadata": {},
   "outputs": [],
   "source": [
    "from autoimpute.imputations import MiceImputer,SingleImputer"
   ]
  },
  {
   "cell_type": "code",
   "execution_count": 3,
   "id": "3a71fce4",
   "metadata": {},
   "outputs": [],
   "source": [
    "from sklearn.impute import SimpleImputer"
   ]
  },
  {
   "cell_type": "code",
   "execution_count": 4,
   "id": "c2271388",
   "metadata": {},
   "outputs": [],
   "source": [
    "from statsmodels.imputation.mice import MICE\n",
    "from statsmodels.imputation.mice import MICEData\n",
    "import statsmodels.api as sm"
   ]
  },
  {
   "cell_type": "code",
   "execution_count": 5,
   "id": "168737b9",
   "metadata": {},
   "outputs": [],
   "source": [
    "# Set some debugging parameters\n",
    "pd.set_option('display.max_columns', None)\n",
    "warnings.filterwarnings(\"ignore\")"
   ]
  },
  {
   "cell_type": "code",
   "execution_count": 6,
   "id": "d959412d",
   "metadata": {},
   "outputs": [],
   "source": [
    "TRAINING_PERIOD = 4\n",
    "LAG_PREDICTORS = True\n",
    "NLAG = 1\n",
    "DEPVAR = \"asylum seekers\" \n",
    "# \"asylum seekers\" | \"asylum seekers (global stock)\" | \"refugees (global stock)\"\n",
    "LOG_TRANSFORM_DEPVAR = True\n",
    "PER_CAPITA_TRANSFORM_DEPVAR = True\n",
    "SPEI_MOVING_AVERAGES_3_6 = False\n",
    "NSTEP_AHEAD = 1\n",
    "CALCULATE_INTERACTIONS = False"
   ]
  },
  {
   "cell_type": "code",
   "execution_count": 7,
   "id": "5e392631",
   "metadata": {},
   "outputs": [],
   "source": [
    "# Read Dataset directly from file and pre-process\n",
    "# original_dataset = pd.read_csv(\"../Data/replication_data.csv\")\n",
    "original_dataset = pd.read_csv(\"../../Data/USAAsylumApplications&UnauthorizedMigration/USA_cleaned_asylum_2007_2018.csv\")\n",
    "original_dataset['n_asylum'] = original_dataset['n_asylum'].fillna(0)\n",
    "original_dataset['n_asylum_eu28'] = original_dataset['n_asylum_eu28'].fillna(0)\n",
    "original_dataset['n_asylum_eu28'] = original_dataset['US_asylum_applications'].fillna(0)\n",
    "original_dataset['n_refugees'] = original_dataset['n_refugees'].fillna(0)\n",
    "original_dataset['spei3_gs_neg'] = original_dataset['spei3_gs_neg'].apply(lambda x: x*12)\n",
    "original_dataset['spei3_gs_pos'] = original_dataset['spei3_gs_pos'].apply(lambda x: x*12)\n",
    "original_dataset['physical_integrity'] = original_dataset['civil_liberties_combined']"
   ]
  },
  {
   "cell_type": "code",
   "execution_count": 8,
   "id": "b1456dcf",
   "metadata": {},
   "outputs": [],
   "source": [
    "# Remove all microstates from the list\n",
    "microstates = pd.read_csv(\"../Data/microstates.dat\", sep = \"\\t\", names=['gwcode','iso3','name','d1','d2'])\n",
    "microstates_list = microstates['gwcode'].to_list()\n",
    "dataset = original_dataset[~original_dataset['gwcode'].isin(microstates_list)]\n",
    "# dataset = original_dataset"
   ]
  },
  {
   "cell_type": "code",
   "execution_count": 9,
   "id": "a61db87b",
   "metadata": {},
   "outputs": [],
   "source": [
    "# Original code did log(population+1),  I have directly did log population and inf values are 0\n",
    "# EU\n",
    "# if DEPVAR == \"asylum seekers\":\n",
    "#     dataset['orig_depvar'] = dataset['n_asylum_eu28']\n",
    "#     dataset['ln_depvar_pop'] = dataset['n_asylum_eu28']\n",
    "#     dataset.loc[dataset['n_asylum_eu28']>0, 'ln_depvar_pop'] = dataset['n_asylum_eu28']/(dataset['wdi_pop']/1e6) +1\n",
    "#     dataset.loc[dataset['n_asylum_eu28']<=0, 'ln_depvar_pop'] = 1\n",
    "#     dataset['ln_depvar_pop'] = pd.to_numeric(dataset['ln_depvar_pop'])\n",
    "#     dataset['ln_depvar_pop'] = dataset['ln_depvar_pop'].apply(lambda x: np.log(x))\n",
    "# USA\n",
    "if DEPVAR == \"asylum seekers\":\n",
    "    dataset['orig_depvar'] = dataset['US_asylum_applications']\n",
    "    dataset['ln_depvar_pop'] = dataset['US_asylum_applications']\n",
    "    dataset.loc[dataset['US_asylum_applications']>0, 'ln_depvar_pop'] = dataset['US_asylum_applications']/(dataset['wdi_pop']/1e6) +1\n",
    "    dataset.loc[dataset['US_asylum_applications']<=0, 'ln_depvar_pop'] = 1\n",
    "    dataset['ln_depvar_pop'] = pd.to_numeric(dataset['ln_depvar_pop'])\n",
    "    dataset['ln_depvar_pop'] = dataset['ln_depvar_pop'].apply(lambda x: np.log(x))\n",
    "\n",
    "# Has to be changed depending on what we are predicting\n",
    "dataset['depvar'] = dataset['ln_depvar_pop']"
   ]
  },
  {
   "cell_type": "code",
   "execution_count": 10,
   "id": "09a898c0",
   "metadata": {},
   "outputs": [],
   "source": [
    "impute_dataset = dataset[['country', 'year', 'depvar', 'highest_neighbor_dem', 'area', 'wdi_pop', 'wdi_urban_pop', 'distance_to_eu',\\\n",
    "                          'wdi_gdppc_growth', 'wdi_gdppc', 'perc_post_secondary', 'kof_index', 'wdi_imr',\\\n",
    "                          'tmp_pop', 'spei3_gs_pos', 'spei3_gs_neg', \\\n",
    "                          'casualties_brd', 'annually_affected_20k', 'physical_integrity', 'free_movement', 'homicide']]"
   ]
  },
  {
   "cell_type": "code",
   "execution_count": 11,
   "id": "3dc73ff0",
   "metadata": {},
   "outputs": [],
   "source": [
    "impute_dataset.loc[impute_dataset['wdi_pop']>0, 'wdi_pop'] = impute_dataset['wdi_pop']+1\n",
    "impute_dataset.loc[impute_dataset['wdi_pop']<=0, 'wdi_pop'] = 1\n",
    "impute_dataset.loc[impute_dataset['wdi_gdppc']>0, 'wdi_gdppc'] = impute_dataset['wdi_gdppc']+1\n",
    "impute_dataset.loc[impute_dataset['wdi_gdppc']<=0, 'wdi_gdppc'] = 1\n",
    "impute_dataset.loc[impute_dataset['casualties_brd']>0, 'casualties_brd'] = impute_dataset['casualties_brd']+1\n",
    "impute_dataset.loc[impute_dataset['casualties_brd']<=0, 'casualties_brd'] = 1\n",
    "impute_dataset.loc[impute_dataset['annually_affected_20k']>0, 'annually_affected_20k'] = impute_dataset['annually_affected_20k']+1\n",
    "impute_dataset.loc[impute_dataset['annually_affected_20k']<=0, 'annually_affected_20k'] = 1\n",
    "impute_dataset.loc[impute_dataset['homicide']>0, 'homicide'] = impute_dataset['homicide']+1\n",
    "impute_dataset.loc[impute_dataset['homicide']<=0, 'homicide'] = 1"
   ]
  },
  {
   "cell_type": "code",
   "execution_count": 12,
   "id": "e1a1564d",
   "metadata": {},
   "outputs": [],
   "source": [
    "impute_dataset['wdi_pop'] = impute_dataset['wdi_pop'].apply(lambda x: np.log(x))\n",
    "impute_dataset['area'] = impute_dataset['area'].apply(lambda x: np.log(x))\n",
    "impute_dataset['wdi_gdppc'] = impute_dataset['wdi_gdppc'].apply(lambda x: np.log(x))\n",
    "impute_dataset['casualties_brd'] = impute_dataset['casualties_brd'].apply(lambda x: np.log(x))\n",
    "impute_dataset['annually_affected_20k'] = impute_dataset['annually_affected_20k'].apply(lambda x: np.log(x))\n",
    "impute_dataset['homicide'] = impute_dataset['homicide'].apply(lambda x: np.log(x))"
   ]
  },
  {
   "cell_type": "code",
   "execution_count": 13,
   "id": "06a406df",
   "metadata": {},
   "outputs": [],
   "source": [
    "# Second order tmp_pop\n",
    "impute_dataset['tmp_pop_sq'] = impute_dataset['tmp_pop'].apply(lambda x: np.power(x,2))\n",
    "\n",
    "# impute_dataset['spei3_gs_pos'] = -1*impute_dataset['spei3_gs_pos']\n",
    "# impute_dataset['spei3_gs_neg'] = -1*impute_dataset['spei3_gs_neg']\n",
    "\n",
    "# 3 year moving average\n",
    "impute_dataset['spei3_gs_pos_r3'] = impute_dataset['spei3_gs_pos'].rolling(3,min_periods=1).mean()\n",
    "impute_dataset['spei3_gs_neg_r3'] = impute_dataset['spei3_gs_neg'].rolling(3,min_periods=1).mean()\n",
    "# 6 year moving average\n",
    "# impute_dataset['spei3_gs_pos_r6'] = impute_dataset['spei3_gs_pos'].rolling(6,min_periods=1).mean()\n",
    "# impute_dataset['spei3_gs_neg_r6'] = impute_dataset['spei3_gs_neg'].rolling(6,min_periods=1).mean()\n"
   ]
  },
  {
   "cell_type": "code",
   "execution_count": 14,
   "id": "913bf05c",
   "metadata": {},
   "outputs": [],
   "source": [
    "# Filter for only years we want\n",
    "impute_dataset = impute_dataset[impute_dataset['year']>=1998]"
   ]
  },
  {
   "cell_type": "markdown",
   "id": "9e1ec7b8",
   "metadata": {},
   "source": [
    "### Imputations are calculated here:\n",
    "<ol>\n",
    "    <li> Naive Imputation </li>\n",
    "    <li> AutoImpute </li>\n",
    "    <li> Statsmodels </li>\n",
    "</ol>"
   ]
  },
  {
   "cell_type": "code",
   "execution_count": 15,
   "id": "9a34b5e2",
   "metadata": {},
   "outputs": [],
   "source": [
    "# Global imputation parameters\n",
    "n_imputations = 1 # number of imputations\n",
    "impute_dataset = impute_dataset.replace([np.inf, -np.inf], np.nan).reset_index()\n",
    "imputations = []\n",
    "# print(impute_dataset)"
   ]
  },
  {
   "cell_type": "code",
   "execution_count": 16,
   "id": "acccd9fd",
   "metadata": {},
   "outputs": [],
   "source": [
    "# Naive Impute\n",
    "# impute_dataset = impute_dataset.fillna(0)"
   ]
  },
  {
   "cell_type": "code",
   "execution_count": 17,
   "id": "c55445b9",
   "metadata": {},
   "outputs": [],
   "source": [
    "#AutoImpute\n",
    "# This is a very complex library - code is in .py"
   ]
  },
  {
   "cell_type": "code",
   "execution_count": 18,
   "id": "c0fb341b",
   "metadata": {},
   "outputs": [
    {
     "name": "stdout",
     "output_type": "stream",
     "text": [
      "0\n"
     ]
    }
   ],
   "source": [
    "# Statsmodel based imputation\n",
    "c = impute_dataset['country']\n",
    "y = impute_dataset['year']\n",
    "impute_dataset = impute_dataset.drop(columns=['country','year'])\n",
    "imp = MICEData(impute_dataset)\n",
    "fml = 'depvar ~ highest_neighbor_dem+area+wdi_pop+wdi_urban_pop+distance_to_eu+wdi_gdppc_growth+wdi_gdppc+perc_post_secondary+kof_index+wdi_imr+tmp_pop+spei3_gs_pos+spei3_gs_neg+casualties_brd+annually_affected_20k+physical_integrity+free_movement+homicide'\n",
    "mice = MICE(fml, sm.OLS, imp)\n",
    "results = mice.fit(10, n_imputations)\n",
    "for j in range(n_imputations):\n",
    "    print(j)\n",
    "    imp.update_all()\n",
    "    temp = imp.data\n",
    "    temp['country'] = c\n",
    "    temp['year'] = y\n",
    "    \n",
    "    # Constraint on imputation values\n",
    "    temp.loc[temp['spei3_gs_neg']<=0, 'spei3_gs_neg'] = 0\n",
    "    temp.loc[temp['spei3_gs_pos']<=0, 'spei3_gs_pos'] = 0\n",
    "    temp.loc[temp['kof_index']<=0, 'kof_index'] = 0\n",
    "    temp.loc[temp['wdi_urban_pop']<=0, 'wdi_urban_pop'] = 0\n",
    "    temp.loc[temp['perc_post_secondary']<=0, 'perc_post_secondary'] = 0\n",
    "    temp.loc[temp['wdi_imr']<=0, 'wdi_imr'] = 0\n",
    "    temp.loc[temp['distance_to_eu']<=0, 'distance_to_eu'] = 0\n",
    "\n",
    "    imputations.append(temp)\n",
    "    \n",
    "# impute_dataset = imputations[0]\n",
    "# print(impute_dataset)"
   ]
  },
  {
   "cell_type": "code",
   "execution_count": 19,
   "id": "9928eb64",
   "metadata": {},
   "outputs": [],
   "source": [
    "# grouped_countries = impute_dataset.groupby(['country'])\n",
    "# # Lag the dataset\n",
    "# lagged_frame_original = pd.DataFrame()\n",
    "# for country, feats in grouped_countries:\n",
    "#     features = grouped_countries.get_group(country).sort_values(by='year')#.drop(columns=['country','year','depvar'])\n",
    "#     features['depvar'] = features['depvar'].shift(-1)\n",
    "#     features = features[:-1] # to lag \n",
    "#     lagged_frame_original = pd.concat([lagged_frame_original,features])"
   ]
  },
  {
   "cell_type": "code",
   "execution_count": null,
   "id": "8e1cc18b",
   "metadata": {},
   "outputs": [],
   "source": []
  },
  {
   "cell_type": "code",
   "execution_count": 30,
   "id": "e1df3890",
   "metadata": {},
   "outputs": [
    {
     "name": "stdout",
     "output_type": "stream",
     "text": [
      "[([2007, 2008, 2009, 2010], 2011), ([2008, 2009, 2010, 2011], 2012), ([2009, 2010, 2011, 2012], 2013), ([2010, 2011, 2012, 2013], 2014), ([2011, 2012, 2013, 2014], 2015), ([2012, 2013, 2014, 2015], 2016), ([2013, 2014, 2015, 2016], 2017)]\n",
      "[2011, 2012, 2013, 2014, 2015, 2016, 2017]\n"
     ]
    }
   ],
   "source": [
    "#Construct year slices -  as this is predictor variable lag - 1998 predicts 1999\n",
    "# year_range = [1998,2017]\n",
    "year_range = [2007,2017]\n",
    "window = 4\n",
    "step_ahead = 1\n",
    "slices = []\n",
    "for i in range(year_range[0],year_range[1]-window+1):\n",
    "    slices.append(([j for j in range(i,i+window)],i+window-1+step_ahead))\n",
    "\n",
    "print(slices)\n",
    "plot_slices = [s[1] for s in slices]\n",
    "print(plot_slices)"
   ]
  },
  {
   "cell_type": "code",
   "execution_count": 31,
   "id": "aed5e979",
   "metadata": {},
   "outputs": [],
   "source": [
    "baseline_columns = ['highest_neighbor_dem', 'area', 'wdi_pop', 'wdi_urban_pop', 'distance_to_eu']\n",
    "economy_columns = ['wdi_gdppc_growth', 'wdi_gdppc', 'perc_post_secondary', 'kof_index', 'wdi_imr']\n",
    "climate_columns = ['tmp_pop', 'spei3_gs_pos', 'spei3_gs_neg','spei3_gs_pos_r3','spei3_gs_neg_r3','tmp_pop_sq']\n",
    "violence_columns = ['casualties_brd', 'annually_affected_20k', 'physical_integrity', 'free_movement', 'homicide']"
   ]
  },
  {
   "cell_type": "code",
   "execution_count": 32,
   "id": "41c5c944",
   "metadata": {},
   "outputs": [],
   "source": [
    "to_drop = [\n",
    "    [economy_columns+climate_columns,\"Violence\"],  #only violence+baseline\n",
    "    [economy_columns+violence_columns,\"Climate\"], #only climate+baseline\n",
    "    [climate_columns+violence_columns,\"Economy\"], #only economy+baseline\n",
    "    [[],\"All\"]                               #all\n",
    "#     economy_columns+violence_columns+climate_columns #only baseline\n",
    "]"
   ]
  },
  {
   "cell_type": "code",
   "execution_count": 33,
   "id": "1f66ee83",
   "metadata": {},
   "outputs": [],
   "source": [
    "line_plot_mae = {\"Violence\":[],\"Climate\":[],\"Economy\":[],\"All\":[]}\n",
    "line_plot_absolute = {\"Violence\":[],\"Climate\":[],\"Economy\":[],\"All\":[]}\n",
    "line_plot_gt = {\"Violence\":[],\"Climate\":[],\"Economy\":[],\"All\":[]}"
   ]
  },
  {
   "cell_type": "code",
   "execution_count": 34,
   "id": "a979c5a6",
   "metadata": {},
   "outputs": [
    {
     "name": "stdout",
     "output_type": "stream",
     "text": [
      "1 / 7\n",
      "MAE for this run:  0.3046232139233809\n",
      "2 / 7\n",
      "MAE for this run:  0.3831192883979319\n",
      "3 / 7\n",
      "MAE for this run:  0.3511267760847379\n",
      "4 / 7\n",
      "MAE for this run:  0.33088244237682796\n",
      "5 / 7\n",
      "MAE for this run:  0.3736855092678933\n",
      "6 / 7\n",
      "MAE for this run:  0.49912139932196553\n",
      "7 / 7\n",
      "MAE for this run:  0.45311157603241126\n",
      "Average MAE for this imputation:  0.38509574362930693\n",
      "Average MAE for all imputations: 0.38509574362930693  Dropped cols:  [['wdi_gdppc_growth', 'wdi_gdppc', 'perc_post_secondary', 'kof_index', 'wdi_imr', 'tmp_pop', 'spei3_gs_pos', 'spei3_gs_neg', 'spei3_gs_pos_r3', 'spei3_gs_neg_r3', 'tmp_pop_sq'], 'Violence']\n",
      "1 / 7\n",
      "MAE for this run:  0.31981723080160596\n",
      "2 / 7\n",
      "MAE for this run:  0.44891419902785346\n",
      "3 / 7\n",
      "MAE for this run:  0.4054082520081178\n",
      "4 / 7\n",
      "MAE for this run:  0.3626594756949781\n",
      "5 / 7\n",
      "MAE for this run:  0.4395195746962732\n",
      "6 / 7\n",
      "MAE for this run:  0.4707697598274411\n",
      "7 / 7\n",
      "MAE for this run:  0.4447206339284523\n",
      "Average MAE for this imputation:  0.4131155894263889\n",
      "Average MAE for all imputations: 0.4131155894263889  Dropped cols:  [['wdi_gdppc_growth', 'wdi_gdppc', 'perc_post_secondary', 'kof_index', 'wdi_imr', 'casualties_brd', 'annually_affected_20k', 'physical_integrity', 'free_movement', 'homicide'], 'Climate']\n",
      "1 / 7\n",
      "MAE for this run:  0.2934483527484512\n",
      "2 / 7\n",
      "MAE for this run:  0.38364110004210694\n",
      "3 / 7\n",
      "MAE for this run:  0.3235203335057386\n",
      "4 / 7\n",
      "MAE for this run:  0.3147445848858839\n",
      "5 / 7\n",
      "MAE for this run:  0.38236514180753284\n",
      "6 / 7\n",
      "MAE for this run:  0.4572583567250173\n",
      "7 / 7\n",
      "MAE for this run:  0.4168621308651315\n",
      "Average MAE for this imputation:  0.3674057143685518\n",
      "Average MAE for all imputations: 0.3674057143685518  Dropped cols:  [['tmp_pop', 'spei3_gs_pos', 'spei3_gs_neg', 'spei3_gs_pos_r3', 'spei3_gs_neg_r3', 'tmp_pop_sq', 'casualties_brd', 'annually_affected_20k', 'physical_integrity', 'free_movement', 'homicide'], 'Economy']\n",
      "1 / 7\n",
      "MAE for this run:  0.3066975444801907\n",
      "2 / 7\n",
      "MAE for this run:  0.3927075313723424\n",
      "3 / 7\n",
      "MAE for this run:  0.31456946459079727\n",
      "4 / 7\n",
      "MAE for this run:  0.31309968340314553\n",
      "5 / 7\n",
      "MAE for this run:  0.3807855990516958\n",
      "6 / 7\n",
      "MAE for this run:  0.4853410319153271\n",
      "7 / 7\n",
      "MAE for this run:  0.45647107945210796\n",
      "Average MAE for this imputation:  0.3785245620379438\n",
      "Average MAE for all imputations: 0.3785245620379438  Dropped cols:  [[], 'All']\n"
     ]
    }
   ],
   "source": [
    "x = [\"Violence\",\"Climate\",\"Economy\",\"All\"]\n",
    "y = []\n",
    "all_predictions = []\n",
    "for dropped in to_drop:\n",
    "    avg_tot_mae = 0\n",
    "    for impute_dataset in imputations:\n",
    "        grouped_countries = impute_dataset.groupby(['country'])\n",
    "        # Lag the dataset\n",
    "        lagged_frame_original = pd.DataFrame()\n",
    "        for country, feats in grouped_countries:\n",
    "            features = grouped_countries.get_group(country).sort_values(by='year')\n",
    "            features['depvar'] = features['depvar'].shift(-1)\n",
    "            features = features[:-1] # to lag \n",
    "            lagged_frame_original = pd.concat([lagged_frame_original,features])\n",
    "        avg_mae = 0\n",
    "        for idx in range(len(slices)):\n",
    "            s = slices[idx]\n",
    "            print(idx+1,\"/\",len(slices))\n",
    "            lagged_frame = lagged_frame_original.drop(columns=dropped[0])\n",
    "\n",
    "            train_set = lagged_frame.loc[lagged_frame['year'].isin(s[0])]\n",
    "            train_features = train_set.drop(columns=['country','year','depvar']).to_numpy()\n",
    "            train_targets = train_set['depvar'].to_numpy()\n",
    "            scaler_train = StandardScaler(with_mean=True,with_std=True)\n",
    "            train_features = scaler_train.fit_transform(train_features,train_targets)\n",
    "\n",
    "            test_set = lagged_frame.loc[lagged_frame['year'] == s[1]]\n",
    "            test_features = test_set.drop(columns=['country','year','depvar']).to_numpy()\n",
    "            test_targets = test_set['depvar'].to_numpy()\n",
    "            scaler_test = StandardScaler(with_mean=True,with_std=True)\n",
    "            test_features = scaler_test.fit_transform(test_features,test_targets)\n",
    "\n",
    "            clf = RandomForestRegressor(n_estimators=1000, min_samples_split=5)\n",
    "            clf.fit(train_features,train_targets)\n",
    "            predictions = clf.predict(test_features)\n",
    "#             for p in predictions:\n",
    "#                 all_predictions.append((s[1],np.exp(p)))\n",
    "            new_pred = []\n",
    "            new_test = []\n",
    "            cnt=0\n",
    "            for i in range(len(predictions)):\n",
    "                new_pred.append(predictions[i])\n",
    "                new_test.append(test_targets[i])\n",
    "            mae = mean_absolute_error(new_test,new_pred)\n",
    "#             print(set(zip(np.exp((new_pred)*(test_set['wdi_pop']/1e6)),np.exp((new_test)*(test_set['wdi_pop']/1e6)))))\n",
    "            print(\"MAE for this run: \",mae)\n",
    "            line_plot_mae[dropped[1]].append(mae)\n",
    "            \n",
    "#             line_plot_absolute[dropped[1]].append(np.exp(new_pred*(test_set['wdi_pop']/1e6)).sum())\n",
    "#             line_plot_gt[dropped[1]].append(np.exp(new_test*(test_set['wdi_pop']/1e6)).sum())\n",
    "            line_plot_absolute[dropped[1]].append(np.exp(new_pred).sum())\n",
    "            line_plot_gt[dropped[1]].append(np.exp(new_test).sum())\n",
    "            avg_mae+=mae\n",
    "        print(\"Average MAE for this imputation: \",avg_mae/len(slices))\n",
    "        avg_tot_mae += avg_mae/len(slices)\n",
    "    print(\"Average MAE for all imputations:\",avg_tot_mae/n_imputations,\" Dropped cols: \",dropped)\n",
    "    y.append(avg_tot_mae/n_imputations)"
   ]
  },
  {
   "cell_type": "code",
   "execution_count": 35,
   "id": "0b8d52cf",
   "metadata": {},
   "outputs": [
    {
     "name": "stdout",
     "output_type": "stream",
     "text": [
      "[0.39, 0.41, 0.37, 0.38]\n"
     ]
    }
   ],
   "source": [
    "y_gt = [0.51,0.72,0.56,0.57] #From the paper itself\n",
    "y = [round(y_,2) for y_ in y]\n",
    "print(y)"
   ]
  },
  {
   "cell_type": "code",
   "execution_count": 36,
   "id": "f5434727",
   "metadata": {},
   "outputs": [],
   "source": [
    "x = [\"Violence\",\"Climate\",\"Economy\",\"All\"]"
   ]
  },
  {
   "cell_type": "code",
   "execution_count": 38,
   "id": "fd8d6b05",
   "metadata": {},
   "outputs": [
    {
     "data": {
      "image/png": "[encoded data removed]",
      "text/plain": [
       "<Figure size 432x288 with 1 Axes>"
      ]
     },
     "metadata": {
      "needs_background": "light"
     },
     "output_type": "display_data"
    }
   ],
   "source": [
    "width = 0.35  # the width of the bars\n",
    "fig, ax = plt.subplots()\n",
    "rects1 = ax.bar(np.arange(len(x)) - width/2, y, width, label='USA')\n",
    "rects2 = ax.bar(np.arange(len(x)) + width/2, y_gt, width, label='Original (EU)')\n",
    "\n",
    "ax.set_ylabel('Average MAE')\n",
    "ax.set_title('USA vs EU')\n",
    "ax.set_xticks(np.arange(len(x)))\n",
    "ax.set_xticklabels(x)\n",
    "ax.legend(loc = \"lower right\")\n",
    "\n",
    "ax.bar_label(rects1, padding=0)\n",
    "ax.bar_label(rects2, padding=0)\n",
    "\n",
    "\n",
    "plt.show()"
   ]
  },
  {
   "cell_type": "code",
   "execution_count": 39,
   "id": "0857bcf3",
   "metadata": {},
   "outputs": [
    {
     "data": {
      "text/plain": [
       "Text(0.5, 0, 'Year')"
      ]
     },
     "execution_count": 39,
     "metadata": {},
     "output_type": "execute_result"
    },
    {
     "data": {
      "image/png": "[encoded data removed]",
      "text/plain": [
       "<Figure size 432x288 with 1 Axes>"
      ]
     },
     "metadata": {
      "needs_background": "light"
     },
     "output_type": "display_data"
    }
   ],
   "source": [
    "plt.plot(plot_slices,line_plot_mae[\"Violence\"],label=\"Violence\")\n",
    "plt.plot(plot_slices,line_plot_mae[\"Climate\"],label=\"Climate\")\n",
    "plt.plot(plot_slices,line_plot_mae[\"Economy\"],label=\"Economy\")\n",
    "plt.plot(plot_slices,line_plot_mae[\"All\"],label=\"All\")\n",
    "plt.legend(loc=\"upper left\")\n",
    "plt.ylabel('Average MAE')\n",
    "plt.xlabel('Year')"
   ]
  },
  {
   "cell_type": "code",
   "execution_count": 40,
   "id": "615e7045",
   "metadata": {},
   "outputs": [
    {
     "data": {
      "text/plain": [
       "Text(0.5, 0, 'Year')"
      ]
     },
     "execution_count": 40,
     "metadata": {},
     "output_type": "execute_result"
    },
    {
     "data": {
      "image/png": "[encoded data removed]",
      "text/plain": [
       "<Figure size 432x288 with 1 Axes>"
      ]
     },
     "metadata": {
      "needs_background": "light"
     },
     "output_type": "display_data"
    }
   ],
   "source": [
    "plt.plot(plot_slices,line_plot_absolute[\"Violence\"],label=\"Violence\")\n",
    "plt.plot(plot_slices,line_plot_absolute[\"Climate\"],label=\"Climate\")\n",
    "plt.plot(plot_slices,line_plot_absolute[\"Economy\"],label=\"Economy\")\n",
    "plt.plot(plot_slices,line_plot_absolute[\"All\"],label=\"All\")\n",
    "plt.bar(plot_slices,line_plot_gt[\"All\"],label=\"GT\")\n",
    "plt.legend(loc=\"upper left\")\n",
    "plt.ylabel('Total Asylum')\n",
    "plt.xlabel('Year')"
   ]
  },
  {
   "cell_type": "code",
   "execution_count": 41,
   "id": "1e25355d",
   "metadata": {},
   "outputs": [
    {
     "data": {
      "text/plain": [
       "{'Violence': [2037.020040198246,\n",
       "  2368.5087093117686,\n",
       "  2904.17777484336,\n",
       "  3969.426853835245,\n",
       "  7304.223242122217,\n",
       "  11508.903098253912,\n",
       "  9090.568287667722],\n",
       " 'Climate': [2037.020040198246,\n",
       "  2368.5087093117686,\n",
       "  2904.17777484336,\n",
       "  3969.426853835245,\n",
       "  7304.223242122217,\n",
       "  11508.903098253912,\n",
       "  9090.568287667722],\n",
       " 'Economy': [2037.020040198246,\n",
       "  2368.5087093117686,\n",
       "  2904.17777484336,\n",
       "  3969.426853835245,\n",
       "  7304.223242122217,\n",
       "  11508.903098253912,\n",
       "  9090.568287667722],\n",
       " 'All': [2037.020040198246,\n",
       "  2368.5087093117686,\n",
       "  2904.17777484336,\n",
       "  3969.426853835245,\n",
       "  7304.223242122217,\n",
       "  11508.903098253912,\n",
       "  9090.568287667722]}"
      ]
     },
     "execution_count": 41,
     "metadata": {},
     "output_type": "execute_result"
    }
   ],
   "source": [
    "line_plot_gt"
   ]
  },
  {
   "cell_type": "code",
   "execution_count": null,
   "id": "900d323d",
   "metadata": {},
   "outputs": [],
   "source": []
  }
 ],
 "metadata": {
  "kernelspec": {
   "display_name": "Python 3",
   "language": "python",
   "name": "python3"
  },
  "language_info": {
   "codemirror_mode": {
    "name": "ipython",
    "version": 3
   },
   "file_extension": ".py",
   "mimetype": "text/x-python",
   "name": "python",
   "nbconvert_exporter": "python",
   "pygments_lexer": "ipython3",
   "version": "3.7.10"
  }
 },
 "nbformat": 4,
 "nbformat_minor": 5
}
